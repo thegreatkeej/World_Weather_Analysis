{
 "cells": [
  {
   "cell_type": "code",
   "execution_count": 3,
   "id": "985d126b",
   "metadata": {},
   "outputs": [],
   "source": [
    "# Import the dependencies.\n",
    "\n",
    "import pandas as pd\n",
    "import matplotlib.pyplot as plt\n",
    "import random\n",
    "import numpy as np\n",
    "import timeit\n",
    "from citipy import citipy\n",
    "import time\n",
    "from datetime import datetime\n",
    "import requests\n",
    "from scipy.stats import linregress\n",
    "import gmaps\n",
    "\n",
    "# Import the API key.\n",
    "from config import weather_api_key\n",
    "from config import g_key"
   ]
  },
  {
   "cell_type": "code",
   "execution_count": 4,
   "id": "c51f8de0",
   "metadata": {},
   "outputs": [],
   "source": [
    "# Starting URL for Weather Map API Call.\n",
    "url = \"http://api.openweathermap.org/data/2.5/weather?units=Imperial&APPID=\" + weather_api_key"
   ]
  },
  {
   "cell_type": "code",
   "execution_count": 5,
   "id": "ce682b1c",
   "metadata": {
    "scrolled": true
   },
   "outputs": [
    {
     "data": {
      "text/html": [
       "<div>\n",
       "<style scoped>\n",
       "    .dataframe tbody tr th:only-of-type {\n",
       "        vertical-align: middle;\n",
       "    }\n",
       "\n",
       "    .dataframe tbody tr th {\n",
       "        vertical-align: top;\n",
       "    }\n",
       "\n",
       "    .dataframe thead th {\n",
       "        text-align: right;\n",
       "    }\n",
       "</style>\n",
       "<table border=\"1\" class=\"dataframe\">\n",
       "  <thead>\n",
       "    <tr style=\"text-align: right;\">\n",
       "      <th></th>\n",
       "      <th>City_ID</th>\n",
       "      <th>City</th>\n",
       "      <th>Country</th>\n",
       "      <th>Date</th>\n",
       "      <th>Lat</th>\n",
       "      <th>Lng</th>\n",
       "      <th>Max Temp</th>\n",
       "      <th>Humidity</th>\n",
       "      <th>Cloudiness</th>\n",
       "      <th>Wind Speed</th>\n",
       "    </tr>\n",
       "  </thead>\n",
       "  <tbody>\n",
       "    <tr>\n",
       "      <th>0</th>\n",
       "      <td>0</td>\n",
       "      <td>Zhuhai</td>\n",
       "      <td>CN</td>\n",
       "      <td>2022-07-17 15:01:15</td>\n",
       "      <td>22.2769</td>\n",
       "      <td>113.5678</td>\n",
       "      <td>88.86</td>\n",
       "      <td>84</td>\n",
       "      <td>40</td>\n",
       "      <td>11.50</td>\n",
       "    </tr>\n",
       "    <tr>\n",
       "      <th>1</th>\n",
       "      <td>1</td>\n",
       "      <td>Te Anau</td>\n",
       "      <td>NZ</td>\n",
       "      <td>2022-07-17 15:01:16</td>\n",
       "      <td>-45.4167</td>\n",
       "      <td>167.7167</td>\n",
       "      <td>50.77</td>\n",
       "      <td>90</td>\n",
       "      <td>100</td>\n",
       "      <td>8.97</td>\n",
       "    </tr>\n",
       "    <tr>\n",
       "      <th>2</th>\n",
       "      <td>2</td>\n",
       "      <td>Bethel</td>\n",
       "      <td>US</td>\n",
       "      <td>2022-07-17 15:01:16</td>\n",
       "      <td>41.3712</td>\n",
       "      <td>-73.4140</td>\n",
       "      <td>83.19</td>\n",
       "      <td>71</td>\n",
       "      <td>45</td>\n",
       "      <td>1.99</td>\n",
       "    </tr>\n",
       "    <tr>\n",
       "      <th>3</th>\n",
       "      <td>3</td>\n",
       "      <td>Seoul</td>\n",
       "      <td>KR</td>\n",
       "      <td>2022-07-17 15:01:17</td>\n",
       "      <td>37.5683</td>\n",
       "      <td>126.9778</td>\n",
       "      <td>76.44</td>\n",
       "      <td>73</td>\n",
       "      <td>16</td>\n",
       "      <td>3.18</td>\n",
       "    </tr>\n",
       "    <tr>\n",
       "      <th>4</th>\n",
       "      <td>4</td>\n",
       "      <td>Aktau</td>\n",
       "      <td>KZ</td>\n",
       "      <td>2022-07-17 15:01:17</td>\n",
       "      <td>43.6500</td>\n",
       "      <td>51.2000</td>\n",
       "      <td>84.78</td>\n",
       "      <td>50</td>\n",
       "      <td>0</td>\n",
       "      <td>11.10</td>\n",
       "    </tr>\n",
       "    <tr>\n",
       "      <th>5</th>\n",
       "      <td>5</td>\n",
       "      <td>Hermanus</td>\n",
       "      <td>ZA</td>\n",
       "      <td>2022-07-17 15:01:18</td>\n",
       "      <td>-34.4187</td>\n",
       "      <td>19.2345</td>\n",
       "      <td>63.70</td>\n",
       "      <td>71</td>\n",
       "      <td>0</td>\n",
       "      <td>17.83</td>\n",
       "    </tr>\n",
       "    <tr>\n",
       "      <th>6</th>\n",
       "      <td>6</td>\n",
       "      <td>Atuona</td>\n",
       "      <td>PF</td>\n",
       "      <td>2022-07-17 15:01:18</td>\n",
       "      <td>-9.8000</td>\n",
       "      <td>-139.0333</td>\n",
       "      <td>77.83</td>\n",
       "      <td>76</td>\n",
       "      <td>23</td>\n",
       "      <td>20.45</td>\n",
       "    </tr>\n",
       "    <tr>\n",
       "      <th>7</th>\n",
       "      <td>7</td>\n",
       "      <td>Khatanga</td>\n",
       "      <td>RU</td>\n",
       "      <td>2022-07-17 15:01:18</td>\n",
       "      <td>71.9667</td>\n",
       "      <td>102.5000</td>\n",
       "      <td>59.74</td>\n",
       "      <td>61</td>\n",
       "      <td>100</td>\n",
       "      <td>7.49</td>\n",
       "    </tr>\n",
       "    <tr>\n",
       "      <th>8</th>\n",
       "      <td>8</td>\n",
       "      <td>San Juan</td>\n",
       "      <td>AR</td>\n",
       "      <td>2022-07-17 15:00:45</td>\n",
       "      <td>-31.5375</td>\n",
       "      <td>-68.5364</td>\n",
       "      <td>54.05</td>\n",
       "      <td>22</td>\n",
       "      <td>0</td>\n",
       "      <td>11.95</td>\n",
       "    </tr>\n",
       "    <tr>\n",
       "      <th>9</th>\n",
       "      <td>9</td>\n",
       "      <td>Bonfim</td>\n",
       "      <td>BR</td>\n",
       "      <td>2022-07-17 15:01:19</td>\n",
       "      <td>3.0833</td>\n",
       "      <td>-59.9500</td>\n",
       "      <td>85.96</td>\n",
       "      <td>64</td>\n",
       "      <td>47</td>\n",
       "      <td>2.98</td>\n",
       "    </tr>\n",
       "    <tr>\n",
       "      <th>10</th>\n",
       "      <td>10</td>\n",
       "      <td>Mataura</td>\n",
       "      <td>NZ</td>\n",
       "      <td>2022-07-17 15:01:20</td>\n",
       "      <td>-46.1927</td>\n",
       "      <td>168.8643</td>\n",
       "      <td>51.48</td>\n",
       "      <td>75</td>\n",
       "      <td>80</td>\n",
       "      <td>7.83</td>\n",
       "    </tr>\n",
       "    <tr>\n",
       "      <th>11</th>\n",
       "      <td>11</td>\n",
       "      <td>Punta Arenas</td>\n",
       "      <td>CL</td>\n",
       "      <td>2022-07-17 15:01:20</td>\n",
       "      <td>-53.1500</td>\n",
       "      <td>-70.9167</td>\n",
       "      <td>37.15</td>\n",
       "      <td>76</td>\n",
       "      <td>100</td>\n",
       "      <td>15.48</td>\n",
       "    </tr>\n",
       "    <tr>\n",
       "      <th>12</th>\n",
       "      <td>12</td>\n",
       "      <td>Bredasdorp</td>\n",
       "      <td>ZA</td>\n",
       "      <td>2022-07-17 15:01:20</td>\n",
       "      <td>-34.5322</td>\n",
       "      <td>20.0403</td>\n",
       "      <td>65.97</td>\n",
       "      <td>62</td>\n",
       "      <td>0</td>\n",
       "      <td>5.48</td>\n",
       "    </tr>\n",
       "    <tr>\n",
       "      <th>13</th>\n",
       "      <td>13</td>\n",
       "      <td>Egvekinot</td>\n",
       "      <td>RU</td>\n",
       "      <td>2022-07-17 15:01:21</td>\n",
       "      <td>66.3167</td>\n",
       "      <td>-179.1667</td>\n",
       "      <td>42.30</td>\n",
       "      <td>95</td>\n",
       "      <td>100</td>\n",
       "      <td>4.92</td>\n",
       "    </tr>\n",
       "  </tbody>\n",
       "</table>\n",
       "</div>"
      ],
      "text/plain": [
       "    City_ID          City Country                 Date      Lat       Lng  \\\n",
       "0         0        Zhuhai      CN  2022-07-17 15:01:15  22.2769  113.5678   \n",
       "1         1       Te Anau      NZ  2022-07-17 15:01:16 -45.4167  167.7167   \n",
       "2         2        Bethel      US  2022-07-17 15:01:16  41.3712  -73.4140   \n",
       "3         3         Seoul      KR  2022-07-17 15:01:17  37.5683  126.9778   \n",
       "4         4         Aktau      KZ  2022-07-17 15:01:17  43.6500   51.2000   \n",
       "5         5      Hermanus      ZA  2022-07-17 15:01:18 -34.4187   19.2345   \n",
       "6         6        Atuona      PF  2022-07-17 15:01:18  -9.8000 -139.0333   \n",
       "7         7      Khatanga      RU  2022-07-17 15:01:18  71.9667  102.5000   \n",
       "8         8      San Juan      AR  2022-07-17 15:00:45 -31.5375  -68.5364   \n",
       "9         9        Bonfim      BR  2022-07-17 15:01:19   3.0833  -59.9500   \n",
       "10       10       Mataura      NZ  2022-07-17 15:01:20 -46.1927  168.8643   \n",
       "11       11  Punta Arenas      CL  2022-07-17 15:01:20 -53.1500  -70.9167   \n",
       "12       12    Bredasdorp      ZA  2022-07-17 15:01:20 -34.5322   20.0403   \n",
       "13       13     Egvekinot      RU  2022-07-17 15:01:21  66.3167 -179.1667   \n",
       "\n",
       "    Max Temp  Humidity  Cloudiness  Wind Speed  \n",
       "0      88.86        84          40       11.50  \n",
       "1      50.77        90         100        8.97  \n",
       "2      83.19        71          45        1.99  \n",
       "3      76.44        73          16        3.18  \n",
       "4      84.78        50           0       11.10  \n",
       "5      63.70        71           0       17.83  \n",
       "6      77.83        76          23       20.45  \n",
       "7      59.74        61         100        7.49  \n",
       "8      54.05        22           0       11.95  \n",
       "9      85.96        64          47        2.98  \n",
       "10     51.48        75          80        7.83  \n",
       "11     37.15        76         100       15.48  \n",
       "12     65.97        62           0        5.48  \n",
       "13     42.30        95         100        4.92  "
      ]
     },
     "execution_count": 5,
     "metadata": {},
     "output_type": "execute_result"
    }
   ],
   "source": [
    "city_data_to_load = \"weather_data/cities.csv\"\n",
    "city_data_df = pd.read_csv(city_data_to_load)\n",
    "city_data_df.head(14)"
   ]
  },
  {
   "cell_type": "code",
   "execution_count": 6,
   "id": "4f5a6099",
   "metadata": {},
   "outputs": [],
   "source": [
    "# Extract relevant fields from the DataFrame for plotting.\n",
    "lats = city_data_df[\"Lat\"]\n",
    "max_temps = city_data_df[\"Max Temp\"]\n",
    "humidity = city_data_df[\"Humidity\"]\n",
    "cloudiness = city_data_df[\"Cloudiness\"]\n",
    "wind_speed = city_data_df[\"Wind Speed\"]"
   ]
  },
  {
   "cell_type": "code",
   "execution_count": 7,
   "id": "a2116a76",
   "metadata": {},
   "outputs": [
    {
     "data": {
      "image/png": "[encoded data removed]",
      "text/plain": [
       "<Figure size 432x288 with 1 Axes>"
      ]
     },
     "metadata": {
      "needs_background": "light"
     },
     "output_type": "display_data"
    }
   ],
   "source": [
    "# Build the scatter plot for latitude vs. max temperature.\n",
    "\n",
    "max_temps = city_data_df[\"Max Temp\"]\n",
    "lats = city_data_df[\"Lat\"]\n",
    "\n",
    "plt.scatter(lats,\n",
    "            max_temps,\n",
    "            edgecolor=\"black\", linewidths=1, marker=\"o\",\n",
    "            alpha=0.8, label=\"Cities\")\n",
    "\n",
    "# Incorporate the other graph properties.\n",
    "plt.title(f\"City Latitude vs. Max Temperature \"+ time.strftime(\"%x\"))\n",
    "plt.ylabel(\"Max Temperature (F)\")\n",
    "plt.xlabel(\"Latitude\")\n",
    "plt.grid(True)\n",
    "\n",
    "# Save the figure.\n",
    "plt.savefig(\"weather_data/Fig1.png\")\n",
    "\n",
    "# Show plot.\n",
    "plt.show()"
   ]
  },
  {
   "cell_type": "code",
   "execution_count": 8,
   "id": "bbd28073",
   "metadata": {},
   "outputs": [
    {
     "data": {
      "image/png": "[encoded data removed]",
      "text/plain": [
       "<Figure size 432x288 with 1 Axes>"
      ]
     },
     "metadata": {
      "needs_background": "light"
     },
     "output_type": "display_data"
    }
   ],
   "source": [
    "# Build the scatter plot for latitude vs. Humidity.\n",
    "\n",
    "humid = city_data_df[\"Humidity\"]\n",
    "lats = city_data_df[\"Lat\"]\n",
    "\n",
    "plt.scatter(lats,\n",
    "            humid,\n",
    "            edgecolor=\"black\", color=\"yellow\", linewidths=1, marker=\"o\",\n",
    "            alpha=0.8, label=\"Cities\")\n",
    "\n",
    "# Incorporate the other graph properties.\n",
    "plt.title(f\"City Latitude vs. Humidity \"+ time.strftime(\"%x\"))\n",
    "plt.ylabel(\"Humidity\")\n",
    "plt.xlabel(\"Latitude\")\n",
    "plt.grid(True)\n",
    "\n",
    "# Save the figure.\n",
    "plt.savefig(\"weather_data/Fig2.png\")\n",
    "\n",
    "# Show plot.\n",
    "plt.show()"
   ]
  },
  {
   "cell_type": "code",
   "execution_count": 9,
   "id": "71b4dae2",
   "metadata": {},
   "outputs": [
    {
     "data": {
      "image/png": "[encoded data removed]",
      "text/plain": [
       "<Figure size 432x288 with 1 Axes>"
      ]
     },
     "metadata": {
      "needs_background": "light"
     },
     "output_type": "display_data"
    }
   ],
   "source": [
    "# Build the scatter plot for latitude vs. Cloudiness.\n",
    "cloud = city_data_df[\"Cloudiness\"]\n",
    "lats = city_data_df[\"Lat\"]\n",
    "\n",
    "plt.scatter(lats,\n",
    "            cloud,\n",
    "            edgecolor=\"black\", color=\"green\", linewidths=1, marker=\"o\",\n",
    "            alpha=0.8, label=\"Cities\")\n",
    "\n",
    "# Incorporate the other graph properties.\n",
    "plt.title(f\"City Latitude vs. Cloudiness \"+ time.strftime(\"%x\"))\n",
    "plt.ylabel(\"Cloudiness\")\n",
    "plt.xlabel(\"Latitude\")\n",
    "plt.grid(True)\n",
    "\n",
    "# Save the figure.\n",
    "plt.savefig(\"weather_data/Fig3.png\")\n",
    "\n",
    "# Show plot.\n",
    "plt.show()"
   ]
  },
  {
   "cell_type": "code",
   "execution_count": 10,
   "id": "b93b94a8",
   "metadata": {},
   "outputs": [
    {
     "data": {
      "image/png": "[encoded data removed]",
      "text/plain": [
       "<Figure size 432x288 with 1 Axes>"
      ]
     },
     "metadata": {
      "needs_background": "light"
     },
     "output_type": "display_data"
    }
   ],
   "source": [
    "# Build the scatter plot for latitude vs. Wind Speed.\n",
    "wind = city_data_df[\"Wind Speed\"]\n",
    "lats = city_data_df[\"Lat\"]\n",
    "\n",
    "plt.scatter(lats,\n",
    "            wind,\n",
    "            edgecolor=\"black\", color=\"magenta\", linewidths=1, marker=\"o\",\n",
    "            alpha=0.8, label=\"Cities\")\n",
    "\n",
    "# Incorporate the other graph properties.\n",
    "plt.title(f\"City Latitude vs. Wind Speed \"+ time.strftime(\"%x\"))\n",
    "plt.ylabel(\"Wind Speed\")\n",
    "plt.xlabel(\"Latitude\")\n",
    "plt.grid(True)\n",
    "\n",
    "# Save the figure.\n",
    "plt.savefig(\"weather_data/Fig4.png\")\n",
    "\n",
    "# Show plot.\n",
    "plt.show()"
   ]
  },
  {
   "cell_type": "code",
   "execution_count": 11,
   "id": "064274a6",
   "metadata": {},
   "outputs": [],
   "source": [
    "# Create a function to create perform linear regression on the weather data\n",
    "# and plot a regression line and the equation with the data.\n",
    "\n",
    "def plot_linear_regression(x_values, y_values, title, y_label, text_coordinates):\n",
    "\n",
    "    # Run regression on hemisphere weather data.\n",
    "    (slope, intercept, r_value, p_value, std_err) = linregress(x_values, y_values)\n",
    "\n",
    "    # Calculate the regression line \"y values\" from the slope and intercept.\n",
    "    regress_values = x_values * slope + intercept\n",
    "    # Get the equation of the line.\n",
    "    line_eq = \"y = \" + str(round(slope,2)) + \"x + \" + str(round(intercept,2))\n",
    "    # Create a scatter plot and plot the regression line.\n",
    "    plt.scatter(x_values,y_values)\n",
    "    plt.plot(x_values,regress_values,\"r\")\n",
    "    # Annotate the text for the line equation.\n",
    "    plt.annotate(line_eq, text_coordinates, fontsize=15, color=\"red\")\n",
    "    plt.title(title)\n",
    "    plt.xlabel('Latitude')\n",
    "    plt.ylabel(y_label)\n",
    "    plt.show()"
   ]
  },
  {
   "cell_type": "code",
   "execution_count": 12,
   "id": "00a9637a",
   "metadata": {},
   "outputs": [
    {
     "data": {
      "text/plain": [
       "City_ID                        13\n",
       "City                    Egvekinot\n",
       "Country                        RU\n",
       "Date          2022-07-17 15:01:21\n",
       "Lat                       66.3167\n",
       "Lng                     -179.1667\n",
       "Max Temp                     42.3\n",
       "Humidity                       95\n",
       "Cloudiness                    100\n",
       "Wind Speed                   4.92\n",
       "Name: 13, dtype: object"
      ]
     },
     "execution_count": 12,
     "metadata": {},
     "output_type": "execute_result"
    }
   ],
   "source": [
    "# the 13 displays the first column's 14th row (remember, python starts at 0)\n",
    "index13 = city_data_df.loc[13]\n",
    "index13"
   ]
  },
  {
   "cell_type": "code",
   "execution_count": 13,
   "id": "b867ec30",
   "metadata": {},
   "outputs": [
    {
     "data": {
      "text/plain": [
       "0       True\n",
       "1      False\n",
       "2       True\n",
       "3       True\n",
       "4       True\n",
       "       ...  \n",
       "569     True\n",
       "570     True\n",
       "571    False\n",
       "572     True\n",
       "573     True\n",
       "Name: Lat, Length: 574, dtype: bool"
      ]
     },
     "execution_count": 13,
     "metadata": {},
     "output_type": "execute_result"
    }
   ],
   "source": [
    "city_data_df[\"Lat\"] >= 0"
   ]
  },
  {
   "cell_type": "code",
   "execution_count": 14,
   "id": "b1eb2386",
   "metadata": {
    "scrolled": true
   },
   "outputs": [
    {
     "data": {
      "text/plain": [
       "0      False\n",
       "1       True\n",
       "2      False\n",
       "3      False\n",
       "4      False\n",
       "       ...  \n",
       "569    False\n",
       "570    False\n",
       "571     True\n",
       "572    False\n",
       "573    False\n",
       "Name: Lat, Length: 574, dtype: bool"
      ]
     },
     "execution_count": 14,
     "metadata": {},
     "output_type": "execute_result"
    }
   ],
   "source": [
    "city_data_df[\"Lat\"] <= 0"
   ]
  },
  {
   "cell_type": "code",
   "execution_count": 15,
   "id": "cc58b06a",
   "metadata": {},
   "outputs": [
    {
     "data": {
      "text/html": [
       "<div>\n",
       "<style scoped>\n",
       "    .dataframe tbody tr th:only-of-type {\n",
       "        vertical-align: middle;\n",
       "    }\n",
       "\n",
       "    .dataframe tbody tr th {\n",
       "        vertical-align: top;\n",
       "    }\n",
       "\n",
       "    .dataframe thead th {\n",
       "        text-align: right;\n",
       "    }\n",
       "</style>\n",
       "<table border=\"1\" class=\"dataframe\">\n",
       "  <thead>\n",
       "    <tr style=\"text-align: right;\">\n",
       "      <th></th>\n",
       "      <th>City_ID</th>\n",
       "      <th>City</th>\n",
       "      <th>Country</th>\n",
       "      <th>Date</th>\n",
       "      <th>Lat</th>\n",
       "      <th>Lng</th>\n",
       "      <th>Max Temp</th>\n",
       "      <th>Humidity</th>\n",
       "      <th>Cloudiness</th>\n",
       "      <th>Wind Speed</th>\n",
       "    </tr>\n",
       "  </thead>\n",
       "  <tbody>\n",
       "    <tr>\n",
       "      <th>0</th>\n",
       "      <td>0</td>\n",
       "      <td>Zhuhai</td>\n",
       "      <td>CN</td>\n",
       "      <td>2022-07-17 15:01:15</td>\n",
       "      <td>22.2769</td>\n",
       "      <td>113.5678</td>\n",
       "      <td>88.86</td>\n",
       "      <td>84</td>\n",
       "      <td>40</td>\n",
       "      <td>11.50</td>\n",
       "    </tr>\n",
       "    <tr>\n",
       "      <th>2</th>\n",
       "      <td>2</td>\n",
       "      <td>Bethel</td>\n",
       "      <td>US</td>\n",
       "      <td>2022-07-17 15:01:16</td>\n",
       "      <td>41.3712</td>\n",
       "      <td>-73.4140</td>\n",
       "      <td>83.19</td>\n",
       "      <td>71</td>\n",
       "      <td>45</td>\n",
       "      <td>1.99</td>\n",
       "    </tr>\n",
       "    <tr>\n",
       "      <th>3</th>\n",
       "      <td>3</td>\n",
       "      <td>Seoul</td>\n",
       "      <td>KR</td>\n",
       "      <td>2022-07-17 15:01:17</td>\n",
       "      <td>37.5683</td>\n",
       "      <td>126.9778</td>\n",
       "      <td>76.44</td>\n",
       "      <td>73</td>\n",
       "      <td>16</td>\n",
       "      <td>3.18</td>\n",
       "    </tr>\n",
       "    <tr>\n",
       "      <th>4</th>\n",
       "      <td>4</td>\n",
       "      <td>Aktau</td>\n",
       "      <td>KZ</td>\n",
       "      <td>2022-07-17 15:01:17</td>\n",
       "      <td>43.6500</td>\n",
       "      <td>51.2000</td>\n",
       "      <td>84.78</td>\n",
       "      <td>50</td>\n",
       "      <td>0</td>\n",
       "      <td>11.10</td>\n",
       "    </tr>\n",
       "    <tr>\n",
       "      <th>7</th>\n",
       "      <td>7</td>\n",
       "      <td>Khatanga</td>\n",
       "      <td>RU</td>\n",
       "      <td>2022-07-17 15:01:18</td>\n",
       "      <td>71.9667</td>\n",
       "      <td>102.5000</td>\n",
       "      <td>59.74</td>\n",
       "      <td>61</td>\n",
       "      <td>100</td>\n",
       "      <td>7.49</td>\n",
       "    </tr>\n",
       "  </tbody>\n",
       "</table>\n",
       "</div>"
      ],
      "text/plain": [
       "   City_ID      City Country                 Date      Lat       Lng  \\\n",
       "0        0    Zhuhai      CN  2022-07-17 15:01:15  22.2769  113.5678   \n",
       "2        2    Bethel      US  2022-07-17 15:01:16  41.3712  -73.4140   \n",
       "3        3     Seoul      KR  2022-07-17 15:01:17  37.5683  126.9778   \n",
       "4        4     Aktau      KZ  2022-07-17 15:01:17  43.6500   51.2000   \n",
       "7        7  Khatanga      RU  2022-07-17 15:01:18  71.9667  102.5000   \n",
       "\n",
       "   Max Temp  Humidity  Cloudiness  Wind Speed  \n",
       "0     88.86        84          40       11.50  \n",
       "2     83.19        71          45        1.99  \n",
       "3     76.44        73          16        3.18  \n",
       "4     84.78        50           0       11.10  \n",
       "7     59.74        61         100        7.49  "
      ]
     },
     "execution_count": 15,
     "metadata": {},
     "output_type": "execute_result"
    }
   ],
   "source": [
    "city_data_df.loc[(city_data_df[\"Lat\"] >= 0)].head()"
   ]
  },
  {
   "cell_type": "code",
   "execution_count": 16,
   "id": "c781a915",
   "metadata": {},
   "outputs": [],
   "source": [
    "# Create Northern and Southern Hemisphere DataFrames.\n",
    "northern_hemi_df = city_data_df.loc[(city_data_df[\"Lat\"] >= 0)]\n",
    "southern_hemi_df = city_data_df.loc[(city_data_df[\"Lat\"] < 0)]"
   ]
  },
  {
   "cell_type": "code",
   "execution_count": 17,
   "id": "85e26673",
   "metadata": {},
   "outputs": [
    {
     "data": {
      "image/png": "[encoded data removed]",
      "text/plain": [
       "<Figure size 432x288 with 1 Axes>"
      ]
     },
     "metadata": {
      "needs_background": "light"
     },
     "output_type": "display_data"
    }
   ],
   "source": [
    "# Linear regression on the Northern Hemisphere \"Max Temp\"\n",
    "x_values = northern_hemi_df[\"Lat\"]\n",
    "y_values = northern_hemi_df[\"Max Temp\"]\n",
    "# Call the function.\n",
    "plot_linear_regression(x_values, y_values,\n",
    "                       'Linear Regression on the Northern Hemisphere for Maximum Temperature', 'Max Temp',(10,40))"
   ]
  },
  {
   "cell_type": "code",
   "execution_count": 18,
   "id": "5a273081",
   "metadata": {},
   "outputs": [
    {
     "data": {
      "text/plain": [
       "LinregressResult(slope=-0.4878831419487793, intercept=92.83248859822797, rvalue=-0.6404300043877573, pvalue=8.726833128666013e-48, stderr=0.029253963839367705, intercept_stderr=1.2613327375541994)"
      ]
     },
     "execution_count": 18,
     "metadata": {},
     "output_type": "execute_result"
    }
   ],
   "source": [
    "linregress (northern_hemi_df[\"Lat\"], northern_hemi_df[\"Max Temp\"])"
   ]
  },
  {
   "cell_type": "code",
   "execution_count": 19,
   "id": "11821bca",
   "metadata": {},
   "outputs": [
    {
     "data": {
      "image/png": "[encoded data removed]",
      "text/plain": [
       "<Figure size 432x288 with 1 Axes>"
      ]
     },
     "metadata": {
      "needs_background": "light"
     },
     "output_type": "display_data"
    }
   ],
   "source": [
    "# Linear regression on the Southern Hemisphere\n",
    "x_values = southern_hemi_df[\"Lat\"]\n",
    "y_values = southern_hemi_df[\"Max Temp\"]\n",
    "# Call the function.\n",
    "plot_linear_regression(x_values, y_values,\n",
    "                       'Linear Regression on the Southern Hemisphere for Maximum Temperature', 'Max Temp',(-50, 90))"
   ]
  },
  {
   "cell_type": "code",
   "execution_count": 20,
   "id": "07b6aee4",
   "metadata": {},
   "outputs": [
    {
     "data": {
      "text/plain": [
       "LinregressResult(slope=0.7755429344091668, intercept=83.83955704231967, rvalue=0.7805922803946044, pvalue=1.5719601286009286e-36, stderr=0.04762832711642864, intercept_stderr=1.1864537815418743)"
      ]
     },
     "execution_count": 20,
     "metadata": {},
     "output_type": "execute_result"
    }
   ],
   "source": [
    "linregress (southern_hemi_df[\"Lat\"], southern_hemi_df[\"Max Temp\"])"
   ]
  },
  {
   "cell_type": "code",
   "execution_count": 21,
   "id": "0fbb9bd8",
   "metadata": {},
   "outputs": [
    {
     "data": {
      "image/png": "[encoded data removed]",
      "text/plain": [
       "<Figure size 432x288 with 1 Axes>"
      ]
     },
     "metadata": {
      "needs_background": "light"
     },
     "output_type": "display_data"
    }
   ],
   "source": [
    "# Linear regression on the Northern Hemisphere \"Humidity\"\n",
    "x_values = northern_hemi_df[\"Lat\"]\n",
    "y_values = northern_hemi_df[\"Humidity\"]\n",
    "# Call the function.\n",
    "plot_linear_regression(x_values, y_values,\n",
    "                       'Linear Regression on the Northern Hemisphere for Humidity', \"Humidity\",(10,40))"
   ]
  },
  {
   "cell_type": "code",
   "execution_count": 22,
   "id": "67cd95c4",
   "metadata": {},
   "outputs": [
    {
     "data": {
      "image/png": "[encoded data removed]",
      "text/plain": [
       "<Figure size 432x288 with 1 Axes>"
      ]
     },
     "metadata": {
      "needs_background": "light"
     },
     "output_type": "display_data"
    }
   ],
   "source": [
    "# Linear regression on the Southern Hemisphere \"Humidity\"\n",
    "x_values = southern_hemi_df[\"Lat\"]\n",
    "y_values = southern_hemi_df[\"Humidity\"]\n",
    "# Call the function.\n",
    "plot_linear_regression(x_values, y_values,\n",
    "                       'Linear Regression on the Southern Hemisphere for Humidity', \"Humidity\",(-50, 15))"
   ]
  },
  {
   "cell_type": "code",
   "execution_count": 23,
   "id": "2b7ce38d",
   "metadata": {
    "scrolled": true
   },
   "outputs": [
    {
     "data": {
      "image/png": "[encoded data removed]",
      "text/plain": [
       "<Figure size 432x288 with 1 Axes>"
      ]
     },
     "metadata": {
      "needs_background": "light"
     },
     "output_type": "display_data"
    }
   ],
   "source": [
    "# Linear regression on the Northern Hemisphere \"Cloudiness\"\n",
    "x_values = northern_hemi_df[\"Lat\"]\n",
    "y_values = northern_hemi_df[\"Cloudiness\"]\n",
    "# Call the function.\n",
    "plot_linear_regression(x_values, y_values,\n",
    "                       'Linear Regression on the Northern Hemisphere for Cloudiness', \"Cloudiness\",(10,40))"
   ]
  },
  {
   "cell_type": "code",
   "execution_count": 24,
   "id": "2c122ac0",
   "metadata": {},
   "outputs": [
    {
     "data": {
      "image/png": "[encoded data removed]",
      "text/plain": [
       "<Figure size 432x288 with 1 Axes>"
      ]
     },
     "metadata": {
      "needs_background": "light"
     },
     "output_type": "display_data"
    }
   ],
   "source": [
    "# Linear regression on the Southern Hemisphere \"Cloudiness\"\n",
    "x_values = southern_hemi_df[\"Lat\"]\n",
    "y_values = southern_hemi_df[\"Cloudiness\"]\n",
    "# Call the function.\n",
    "plot_linear_regression(x_values, y_values,\n",
    "                       'Linear Regression on the Southern Hemisphere for Cloudiness', \"Cloudiness\",(-50, 60))"
   ]
  },
  {
   "cell_type": "code",
   "execution_count": 25,
   "id": "1d245a08",
   "metadata": {},
   "outputs": [
    {
     "data": {
      "image/png": "[encoded data removed]",
      "text/plain": [
       "<Figure size 432x288 with 1 Axes>"
      ]
     },
     "metadata": {
      "needs_background": "light"
     },
     "output_type": "display_data"
    }
   ],
   "source": [
    "# Linear regression on the Northern Hemisphere \"Wind Speed\"\n",
    "x_values = northern_hemi_df[\"Lat\"]\n",
    "y_values = northern_hemi_df[\"Wind Speed\"]\n",
    "# Call the function.\n",
    "plot_linear_regression(x_values, y_values,\n",
    "                       'Linear Regression on the Northern Hemisphere for Wind Speed', \"Wind Speed\",(40,25))"
   ]
  },
  {
   "cell_type": "code",
   "execution_count": 26,
   "id": "abc30ff2",
   "metadata": {},
   "outputs": [
    {
     "data": {
      "image/png": "[encoded data removed]",
      "text/plain": [
       "<Figure size 432x288 with 1 Axes>"
      ]
     },
     "metadata": {
      "needs_background": "light"
     },
     "output_type": "display_data"
    }
   ],
   "source": [
    "# Linear regression on the Southern Hemisphere \"Wind Speed\"\n",
    "x_values = southern_hemi_df[\"Lat\"]\n",
    "y_values = southern_hemi_df[\"Wind Speed\"]\n",
    "# Call the function.\n",
    "plot_linear_regression(x_values, y_values,\n",
    "                       'Linear Regression on the Southern Hemisphere for \"Wind Speed\"', \"Wind Speed\",(-50, 23))"
   ]
  },
  {
   "cell_type": "code",
   "execution_count": 28,
   "id": "6c72720d",
   "metadata": {},
   "outputs": [
    {
     "data": {
      "text/plain": [
       "City_ID         int64\n",
       "City           object\n",
       "Country        object\n",
       "Date           object\n",
       "Lat           float64\n",
       "Lng           float64\n",
       "Max Temp      float64\n",
       "Humidity        int64\n",
       "Cloudiness      int64\n",
       "Wind Speed    float64\n",
       "dtype: object"
      ]
     },
     "execution_count": 28,
     "metadata": {},
     "output_type": "execute_result"
    }
   ],
   "source": [
    "city_data_df.dtypes\n"
   ]
  },
  {
   "cell_type": "code",
   "execution_count": 29,
   "id": "7f143aa2",
   "metadata": {},
   "outputs": [],
   "source": [
    "# Configure gmaps to use your Google API key.\n",
    "gmaps.configure(api_key=g_key)"
   ]
  },
  {
   "cell_type": "code",
   "execution_count": 34,
   "id": "b86111f9",
   "metadata": {},
   "outputs": [
    {
     "data": {
      "application/vnd.jupyter.widget-view+json": {
       "model_id": "cf939e12c08c4b588d5705b1f8959bf0",
       "version_major": 2,
       "version_minor": 0
      },
      "text/plain": [
       "WeightedHeatmap(data_bounds=[(-44.840725166045345, -179.99999), (85.0, 179.99999)], locations=[(22.2769, 113.5…"
      ]
     },
     "metadata": {},
     "output_type": "display_data"
    }
   ],
   "source": [
    "# Get the maximum temperature.\n",
    "\n",
    "#max_temp = city_data_df[\"Max Temp\"]\n",
    "#temps = []\n",
    "#for temp in max_temp:\n",
    "    #temps.append(max(temp, 0))\n",
    "    #or:\n",
    "    \n",
    "#heat_layer = gmaps.heatmap_layer(locations, weights=[max(temp, 0) for temp in max_temp])"
   ]
  },
  {
   "cell_type": "code",
   "execution_count": 39,
   "id": "cd9dc4a7",
   "metadata": {},
   "outputs": [
    {
     "data": {
      "application/vnd.jupyter.widget-view+json": {
       "model_id": "77fbefa4ccd44fcba92f5ac3783429f2",
       "version_major": 2,
       "version_minor": 0
      },
      "text/plain": [
       "Figure(layout=FigureLayout(height='420px'))"
      ]
     },
     "metadata": {},
     "output_type": "display_data"
    }
   ],
   "source": [
    "# Heatmap of temperature\n",
    "# Get the latitude and longitude.\n",
    "locations = city_data_df[[\"Lat\", \"Lng\"]]\n",
    "# Get the maximum temperature.\n",
    "max_temp = city_data_df[\"Max Temp\"]\n",
    "# Assign the figure variable.\n",
    "fig = gmaps.figure(center=(30.0, 31.0), zoom_level=1.5)\n",
    "# Assign the heatmap variable.\n",
    "heat_layer = gmaps.heatmap_layer(locations, weights=[max(temp, 0) for temp in max_temp], \n",
    "                                 dissipating=False, max_intensity=300, point_radius=4)\n",
    "# Add the heatmap layer.\n",
    "fig.add_layer(heat_layer)\n",
    "# Call the figure to plot the data.\n",
    "fig"
   ]
  },
  {
   "cell_type": "code",
   "execution_count": 40,
   "id": "df18568b",
   "metadata": {},
   "outputs": [
    {
     "data": {
      "application/vnd.jupyter.widget-view+json": {
       "model_id": "feadd6c89d4a4025b7d7d34ea005b817",
       "version_major": 2,
       "version_minor": 0
      },
      "text/plain": [
       "Figure(layout=FigureLayout(height='420px'))"
      ]
     },
     "metadata": {},
     "output_type": "display_data"
    }
   ],
   "source": [
    "# Heatmap of percent humidity\n",
    "locations = city_data_df[[\"Lat\", \"Lng\"]]\n",
    "humidity = city_data_df[\"Humidity\"]\n",
    "fig = gmaps.figure(center=(30.0, 31.0), zoom_level=1.5)\n",
    "heat_layer = gmaps.heatmap_layer(locations, weights=humidity, dissipating=False, max_intensity=300, point_radius=4)\n",
    "\n",
    "fig.add_layer(heat_layer)\n",
    "# Call the figure to plot the data.\n",
    "fig"
   ]
  },
  {
   "cell_type": "code",
   "execution_count": 41,
   "id": "9e87321b",
   "metadata": {},
   "outputs": [
    {
     "data": {
      "application/vnd.jupyter.widget-view+json": {
       "model_id": "a759a52320b84a9b90d2be3c9bb40823",
       "version_major": 2,
       "version_minor": 0
      },
      "text/plain": [
       "Figure(layout=FigureLayout(height='420px'))"
      ]
     },
     "metadata": {},
     "output_type": "display_data"
    }
   ],
   "source": [
    "# Heatmap of percent Cloudiness\n",
    "locations = city_data_df[[\"Lat\", \"Lng\"]]\n",
    "cludiness = city_data_df[\"Cloudiness\"]\n",
    "fig = gmaps.figure(center=(30.0, 31.0), zoom_level=1.5)\n",
    "heat_layer = gmaps.heatmap_layer(locations, weights=cludiness, dissipating=False, max_intensity=300, point_radius=4)\n",
    "\n",
    "fig.add_layer(heat_layer)\n",
    "# Call the figure to plot the data.\n",
    "fig"
   ]
  },
  {
   "cell_type": "code",
   "execution_count": 42,
   "id": "108cca74",
   "metadata": {},
   "outputs": [
    {
     "data": {
      "application/vnd.jupyter.widget-view+json": {
       "model_id": "34c5f44fab6e4e8cbd22d050f3768b70",
       "version_major": 2,
       "version_minor": 0
      },
      "text/plain": [
       "Figure(layout=FigureLayout(height='420px'))"
      ]
     },
     "metadata": {},
     "output_type": "display_data"
    }
   ],
   "source": [
    "# Heatmap of percent Wind Speed\n",
    "locations = city_data_df[[\"Lat\", \"Lng\"]]\n",
    "wind = city_data_df[\"Wind Speed\"]\n",
    "fig = gmaps.figure(center=(30.0, 31.0), zoom_level=1.5)\n",
    "heat_layer = gmaps.heatmap_layer(locations, weights=wind, dissipating=False, max_intensity=300, point_radius=4)\n",
    "\n",
    "fig.add_layer(heat_layer)\n",
    "# Call the figure to plot the data.\n",
    "fig"
   ]
  },
  {
   "cell_type": "code",
   "execution_count": 61,
   "id": "ea5c0a43",
   "metadata": {},
   "outputs": [
    {
     "name": "stdout",
     "output_type": "stream",
     "text": [
      "What is the minimum temperature you would like for your trip? 77\n",
      "What is the maximum temperature you would like for your trip? 89\n"
     ]
    }
   ],
   "source": [
    "# Ask the customer to add a minimum and maximum temperature value.\n",
    "min_temp = float(input(\"What is the minimum temperature you would like for your trip? \"))\n",
    "max_temp = float(input(\"What is the maximum temperature you would like for your trip? \"))"
   ]
  },
  {
   "cell_type": "code",
   "execution_count": 62,
   "id": "9f01cdad",
   "metadata": {},
   "outputs": [
    {
     "data": {
      "text/html": [
       "<div>\n",
       "<style scoped>\n",
       "    .dataframe tbody tr th:only-of-type {\n",
       "        vertical-align: middle;\n",
       "    }\n",
       "\n",
       "    .dataframe tbody tr th {\n",
       "        vertical-align: top;\n",
       "    }\n",
       "\n",
       "    .dataframe thead th {\n",
       "        text-align: right;\n",
       "    }\n",
       "</style>\n",
       "<table border=\"1\" class=\"dataframe\">\n",
       "  <thead>\n",
       "    <tr style=\"text-align: right;\">\n",
       "      <th></th>\n",
       "      <th>City_ID</th>\n",
       "      <th>City</th>\n",
       "      <th>Country</th>\n",
       "      <th>Date</th>\n",
       "      <th>Lat</th>\n",
       "      <th>Lng</th>\n",
       "      <th>Max Temp</th>\n",
       "      <th>Humidity</th>\n",
       "      <th>Cloudiness</th>\n",
       "      <th>Wind Speed</th>\n",
       "    </tr>\n",
       "  </thead>\n",
       "  <tbody>\n",
       "    <tr>\n",
       "      <th>0</th>\n",
       "      <td>0</td>\n",
       "      <td>Zhuhai</td>\n",
       "      <td>CN</td>\n",
       "      <td>2022-07-17 15:01:15</td>\n",
       "      <td>22.2769</td>\n",
       "      <td>113.5678</td>\n",
       "      <td>88.86</td>\n",
       "      <td>84</td>\n",
       "      <td>40</td>\n",
       "      <td>11.50</td>\n",
       "    </tr>\n",
       "    <tr>\n",
       "      <th>2</th>\n",
       "      <td>2</td>\n",
       "      <td>Bethel</td>\n",
       "      <td>US</td>\n",
       "      <td>2022-07-17 15:01:16</td>\n",
       "      <td>41.3712</td>\n",
       "      <td>-73.4140</td>\n",
       "      <td>83.19</td>\n",
       "      <td>71</td>\n",
       "      <td>45</td>\n",
       "      <td>1.99</td>\n",
       "    </tr>\n",
       "    <tr>\n",
       "      <th>4</th>\n",
       "      <td>4</td>\n",
       "      <td>Aktau</td>\n",
       "      <td>KZ</td>\n",
       "      <td>2022-07-17 15:01:17</td>\n",
       "      <td>43.6500</td>\n",
       "      <td>51.2000</td>\n",
       "      <td>84.78</td>\n",
       "      <td>50</td>\n",
       "      <td>0</td>\n",
       "      <td>11.10</td>\n",
       "    </tr>\n",
       "    <tr>\n",
       "      <th>6</th>\n",
       "      <td>6</td>\n",
       "      <td>Atuona</td>\n",
       "      <td>PF</td>\n",
       "      <td>2022-07-17 15:01:18</td>\n",
       "      <td>-9.8000</td>\n",
       "      <td>-139.0333</td>\n",
       "      <td>77.83</td>\n",
       "      <td>76</td>\n",
       "      <td>23</td>\n",
       "      <td>20.45</td>\n",
       "    </tr>\n",
       "    <tr>\n",
       "      <th>9</th>\n",
       "      <td>9</td>\n",
       "      <td>Bonfim</td>\n",
       "      <td>BR</td>\n",
       "      <td>2022-07-17 15:01:19</td>\n",
       "      <td>3.0833</td>\n",
       "      <td>-59.9500</td>\n",
       "      <td>85.96</td>\n",
       "      <td>64</td>\n",
       "      <td>47</td>\n",
       "      <td>2.98</td>\n",
       "    </tr>\n",
       "    <tr>\n",
       "      <th>14</th>\n",
       "      <td>14</td>\n",
       "      <td>Taman</td>\n",
       "      <td>RU</td>\n",
       "      <td>2022-07-17 15:01:21</td>\n",
       "      <td>45.2117</td>\n",
       "      <td>36.7161</td>\n",
       "      <td>78.60</td>\n",
       "      <td>59</td>\n",
       "      <td>4</td>\n",
       "      <td>10.42</td>\n",
       "    </tr>\n",
       "    <tr>\n",
       "      <th>22</th>\n",
       "      <td>22</td>\n",
       "      <td>Kapaa</td>\n",
       "      <td>US</td>\n",
       "      <td>2022-07-17 15:01:25</td>\n",
       "      <td>22.0752</td>\n",
       "      <td>-159.3190</td>\n",
       "      <td>77.11</td>\n",
       "      <td>82</td>\n",
       "      <td>100</td>\n",
       "      <td>4.00</td>\n",
       "    </tr>\n",
       "    <tr>\n",
       "      <th>24</th>\n",
       "      <td>24</td>\n",
       "      <td>Cabo San Lucas</td>\n",
       "      <td>MX</td>\n",
       "      <td>2022-07-17 15:01:26</td>\n",
       "      <td>22.8909</td>\n",
       "      <td>-109.9124</td>\n",
       "      <td>84.61</td>\n",
       "      <td>44</td>\n",
       "      <td>10</td>\n",
       "      <td>3.00</td>\n",
       "    </tr>\n",
       "    <tr>\n",
       "      <th>33</th>\n",
       "      <td>33</td>\n",
       "      <td>Ponta Do Sol</td>\n",
       "      <td>PT</td>\n",
       "      <td>2022-07-17 15:01:29</td>\n",
       "      <td>32.6667</td>\n",
       "      <td>-17.1000</td>\n",
       "      <td>79.72</td>\n",
       "      <td>79</td>\n",
       "      <td>34</td>\n",
       "      <td>8.39</td>\n",
       "    </tr>\n",
       "    <tr>\n",
       "      <th>40</th>\n",
       "      <td>40</td>\n",
       "      <td>Port Elizabeth</td>\n",
       "      <td>ZA</td>\n",
       "      <td>2022-07-17 15:01:32</td>\n",
       "      <td>-33.9180</td>\n",
       "      <td>25.5701</td>\n",
       "      <td>81.10</td>\n",
       "      <td>31</td>\n",
       "      <td>1</td>\n",
       "      <td>8.68</td>\n",
       "    </tr>\n",
       "  </tbody>\n",
       "</table>\n",
       "</div>"
      ],
      "text/plain": [
       "    City_ID            City Country                 Date      Lat       Lng  \\\n",
       "0         0          Zhuhai      CN  2022-07-17 15:01:15  22.2769  113.5678   \n",
       "2         2          Bethel      US  2022-07-17 15:01:16  41.3712  -73.4140   \n",
       "4         4           Aktau      KZ  2022-07-17 15:01:17  43.6500   51.2000   \n",
       "6         6          Atuona      PF  2022-07-17 15:01:18  -9.8000 -139.0333   \n",
       "9         9          Bonfim      BR  2022-07-17 15:01:19   3.0833  -59.9500   \n",
       "14       14           Taman      RU  2022-07-17 15:01:21  45.2117   36.7161   \n",
       "22       22           Kapaa      US  2022-07-17 15:01:25  22.0752 -159.3190   \n",
       "24       24  Cabo San Lucas      MX  2022-07-17 15:01:26  22.8909 -109.9124   \n",
       "33       33    Ponta Do Sol      PT  2022-07-17 15:01:29  32.6667  -17.1000   \n",
       "40       40  Port Elizabeth      ZA  2022-07-17 15:01:32 -33.9180   25.5701   \n",
       "\n",
       "    Max Temp  Humidity  Cloudiness  Wind Speed  \n",
       "0      88.86        84          40       11.50  \n",
       "2      83.19        71          45        1.99  \n",
       "4      84.78        50           0       11.10  \n",
       "6      77.83        76          23       20.45  \n",
       "9      85.96        64          47        2.98  \n",
       "14     78.60        59           4       10.42  \n",
       "22     77.11        82         100        4.00  \n",
       "24     84.61        44          10        3.00  \n",
       "33     79.72        79          34        8.39  \n",
       "40     81.10        31           1        8.68  "
      ]
     },
     "execution_count": 62,
     "metadata": {},
     "output_type": "execute_result"
    }
   ],
   "source": [
    "# Filter the dataset to find the cities that fit the criteria.\n",
    "preferred_cities_df = city_data_df.loc[(city_data_df[\"Max Temp\"] <= max_temp) & \\\n",
    "                                       (city_data_df[\"Max Temp\"] >= min_temp)]\n",
    "preferred_cities_df.head(10)"
   ]
  },
  {
   "cell_type": "code",
   "execution_count": 63,
   "id": "28b72001",
   "metadata": {
    "scrolled": true
   },
   "outputs": [
    {
     "data": {
      "text/plain": [
       "City_ID       202\n",
       "City          202\n",
       "Country       202\n",
       "Date          202\n",
       "Lat           202\n",
       "Lng           202\n",
       "Max Temp      202\n",
       "Humidity      202\n",
       "Cloudiness    202\n",
       "Wind Speed    202\n",
       "dtype: int64"
      ]
     },
     "execution_count": 63,
     "metadata": {},
     "output_type": "execute_result"
    }
   ],
   "source": [
    "preferred_cities_df.count()"
   ]
  },
  {
   "cell_type": "code",
   "execution_count": 64,
   "id": "a8e0a679",
   "metadata": {},
   "outputs": [
    {
     "data": {
      "text/html": [
       "<div>\n",
       "<style scoped>\n",
       "    .dataframe tbody tr th:only-of-type {\n",
       "        vertical-align: middle;\n",
       "    }\n",
       "\n",
       "    .dataframe tbody tr th {\n",
       "        vertical-align: top;\n",
       "    }\n",
       "\n",
       "    .dataframe thead th {\n",
       "        text-align: right;\n",
       "    }\n",
       "</style>\n",
       "<table border=\"1\" class=\"dataframe\">\n",
       "  <thead>\n",
       "    <tr style=\"text-align: right;\">\n",
       "      <th></th>\n",
       "      <th>City</th>\n",
       "      <th>Country</th>\n",
       "      <th>Max Temp</th>\n",
       "      <th>Lat</th>\n",
       "      <th>Lng</th>\n",
       "      <th>Hotel Name</th>\n",
       "    </tr>\n",
       "  </thead>\n",
       "  <tbody>\n",
       "    <tr>\n",
       "      <th>0</th>\n",
       "      <td>Zhuhai</td>\n",
       "      <td>CN</td>\n",
       "      <td>88.86</td>\n",
       "      <td>22.2769</td>\n",
       "      <td>113.5678</td>\n",
       "      <td></td>\n",
       "    </tr>\n",
       "    <tr>\n",
       "      <th>2</th>\n",
       "      <td>Bethel</td>\n",
       "      <td>US</td>\n",
       "      <td>83.19</td>\n",
       "      <td>41.3712</td>\n",
       "      <td>-73.4140</td>\n",
       "      <td></td>\n",
       "    </tr>\n",
       "    <tr>\n",
       "      <th>4</th>\n",
       "      <td>Aktau</td>\n",
       "      <td>KZ</td>\n",
       "      <td>84.78</td>\n",
       "      <td>43.6500</td>\n",
       "      <td>51.2000</td>\n",
       "      <td></td>\n",
       "    </tr>\n",
       "    <tr>\n",
       "      <th>6</th>\n",
       "      <td>Atuona</td>\n",
       "      <td>PF</td>\n",
       "      <td>77.83</td>\n",
       "      <td>-9.8000</td>\n",
       "      <td>-139.0333</td>\n",
       "      <td></td>\n",
       "    </tr>\n",
       "    <tr>\n",
       "      <th>9</th>\n",
       "      <td>Bonfim</td>\n",
       "      <td>BR</td>\n",
       "      <td>85.96</td>\n",
       "      <td>3.0833</td>\n",
       "      <td>-59.9500</td>\n",
       "      <td></td>\n",
       "    </tr>\n",
       "    <tr>\n",
       "      <th>14</th>\n",
       "      <td>Taman</td>\n",
       "      <td>RU</td>\n",
       "      <td>78.60</td>\n",
       "      <td>45.2117</td>\n",
       "      <td>36.7161</td>\n",
       "      <td></td>\n",
       "    </tr>\n",
       "    <tr>\n",
       "      <th>22</th>\n",
       "      <td>Kapaa</td>\n",
       "      <td>US</td>\n",
       "      <td>77.11</td>\n",
       "      <td>22.0752</td>\n",
       "      <td>-159.3190</td>\n",
       "      <td></td>\n",
       "    </tr>\n",
       "    <tr>\n",
       "      <th>24</th>\n",
       "      <td>Cabo San Lucas</td>\n",
       "      <td>MX</td>\n",
       "      <td>84.61</td>\n",
       "      <td>22.8909</td>\n",
       "      <td>-109.9124</td>\n",
       "      <td></td>\n",
       "    </tr>\n",
       "    <tr>\n",
       "      <th>33</th>\n",
       "      <td>Ponta Do Sol</td>\n",
       "      <td>PT</td>\n",
       "      <td>79.72</td>\n",
       "      <td>32.6667</td>\n",
       "      <td>-17.1000</td>\n",
       "      <td></td>\n",
       "    </tr>\n",
       "    <tr>\n",
       "      <th>40</th>\n",
       "      <td>Port Elizabeth</td>\n",
       "      <td>ZA</td>\n",
       "      <td>81.10</td>\n",
       "      <td>-33.9180</td>\n",
       "      <td>25.5701</td>\n",
       "      <td></td>\n",
       "    </tr>\n",
       "  </tbody>\n",
       "</table>\n",
       "</div>"
      ],
      "text/plain": [
       "              City Country  Max Temp      Lat       Lng Hotel Name\n",
       "0           Zhuhai      CN     88.86  22.2769  113.5678           \n",
       "2           Bethel      US     83.19  41.3712  -73.4140           \n",
       "4            Aktau      KZ     84.78  43.6500   51.2000           \n",
       "6           Atuona      PF     77.83  -9.8000 -139.0333           \n",
       "9           Bonfim      BR     85.96   3.0833  -59.9500           \n",
       "14           Taman      RU     78.60  45.2117   36.7161           \n",
       "22           Kapaa      US     77.11  22.0752 -159.3190           \n",
       "24  Cabo San Lucas      MX     84.61  22.8909 -109.9124           \n",
       "33    Ponta Do Sol      PT     79.72  32.6667  -17.1000           \n",
       "40  Port Elizabeth      ZA     81.10 -33.9180   25.5701           "
      ]
     },
     "execution_count": 64,
     "metadata": {},
     "output_type": "execute_result"
    }
   ],
   "source": [
    "# Create DataFrame called hotel_df to store hotel names along with city, country, max temp, and coordinates.\n",
    "hotel_df = preferred_cities_df[[\"City\", \"Country\", \"Max Temp\", \"Lat\", \"Lng\"]].copy()\n",
    "hotel_df[\"Hotel Name\"] = \"\"\n",
    "hotel_df.head(10)"
   ]
  },
  {
   "cell_type": "code",
   "execution_count": 65,
   "id": "cf2813c2",
   "metadata": {},
   "outputs": [
    {
     "data": {
      "text/plain": [
       "{'html_attributions': [],\n",
       " 'next_page_token': 'AeJbb3dxAWcv6QSM6vOj0WK5jd7LvozOqM-k08bS8Rsd_v0TafP_E26JcH4WZ_OEYgAZbDh32Op0ZcvOlLK0ZotA6RSEW1cNIew_SWjAUynGfqBnwsNMlBujAungSAcuJn7KV0-HDtGECvNq67gQMHAKcxbw8WmDkYwHJ8vfjR5p5F8xlBls2SYGWkbI_BeHDOqNePYPpXtK-uv6pzCujIS4VuA1UG-g6lqSAQM5VYZTSf01Qjdw1EYWBpywZAKK-71daFKAugBPO3CD9y1CB7Gu2mYWOYt3R4GDMB9HAbakpmHV2twABlwuflwFtj7HH0HU7mispWyAapiRt6UtJGbTbXKzqKhdFPYEiegZUL0ya_g5KQ9iKPko51cZ4MUH2UVH50Eq6MOvVf9_4jLvKJ1bcnBqvN4SXn-qiTAKO-_lSahebLW8MiMSbcUg',\n",
       " 'results': [{'business_status': 'OPERATIONAL',\n",
       "   'geometry': {'location': {'lat': 48.8581126, 'lng': 2.3529277},\n",
       "    'viewport': {'northeast': {'lat': 48.8594360302915,\n",
       "      'lng': 2.354355480291502},\n",
       "     'southwest': {'lat': 48.8567380697085, 'lng': 2.351657519708498}}},\n",
       "   'icon': 'https://maps.gstatic.com/mapfiles/place_api/icons/v1/png_71/lodging-71.png',\n",
       "   'icon_background_color': '#909CE1',\n",
       "   'icon_mask_base_uri': 'https://maps.gstatic.com/mapfiles/place_api/icons/v2/hotel_pinlet',\n",
       "   'name': 'Hôtel Duo',\n",
       "   'opening_hours': {'open_now': True},\n",
       "   'photos': [{'height': 3840,\n",
       "     'html_attributions': ['<a href=\"https://maps.google.com/maps/contrib/107554201425443337224\">Hôtel Duo</a>'],\n",
       "     'photo_reference': 'AeJbb3dVwPPATar6K99voMD-YXb_x5RhKb4KGdnZH2Jyk3NnP-MbTB8SWD4uF2e6AaPW_eH0Z3mVFsJ01ErdhLoDyKCbA-x-P72WMBtNTdx_-Kpi9oShelQz4cXxHrNDsmEveiC_PEh9zA8hoh9s2HT4Dxon0qCZ-x6HlEZzZSiI_BJATzsX',\n",
       "     'width': 5760}],\n",
       "   'place_id': 'ChIJWU9CqB1u5kcR5P1F2SMoJmc',\n",
       "   'plus_code': {'compound_code': 'V953+65 Paris, France',\n",
       "    'global_code': '8FW4V953+65'},\n",
       "   'rating': 4.2,\n",
       "   'reference': 'ChIJWU9CqB1u5kcR5P1F2SMoJmc',\n",
       "   'scope': 'GOOGLE',\n",
       "   'types': ['night_club',\n",
       "    'gym',\n",
       "    'lodging',\n",
       "    'bar',\n",
       "    'spa',\n",
       "    'health',\n",
       "    'point_of_interest',\n",
       "    'establishment'],\n",
       "   'user_ratings_total': 336,\n",
       "   'vicinity': '11 Rue du Temple, Paris'},\n",
       "  {'business_status': 'OPERATIONAL',\n",
       "   'geometry': {'location': {'lat': 48.8582861, 'lng': 2.3464944},\n",
       "    'viewport': {'northeast': {'lat': 48.85954748029151,\n",
       "      'lng': 2.347782830291502},\n",
       "     'southwest': {'lat': 48.85684951970851, 'lng': 2.345084869708498}}},\n",
       "   'icon': 'https://maps.gstatic.com/mapfiles/place_api/icons/v1/png_71/lodging-71.png',\n",
       "   'icon_background_color': '#909CE1',\n",
       "   'icon_mask_base_uri': 'https://maps.gstatic.com/mapfiles/place_api/icons/v2/hotel_pinlet',\n",
       "   'name': 'Britannique Hotel - Paris Centre',\n",
       "   'opening_hours': {'open_now': True},\n",
       "   'photos': [{'height': 1426,\n",
       "     'html_attributions': ['<a href=\"https://maps.google.com/maps/contrib/108984000175492464929\">Hôtel Britannique - Paris Centre</a>'],\n",
       "     'photo_reference': 'AeJbb3cDtsLyatMQCxnisA8LiHN64ytWf2kPuOKP5w6X79PCYaBtd-hq5nCuwnWmykr9PTgYClNmTMGJJ6kGQBFu6q1jN4rZOp8iSXdTeqEpQLXSG0W9flvLdYWWK9aTXu3bxw4Yjw7RIPx_DSAdoUTaaN4o5Sh8P21gg_07-wmSSQTOwAHH',\n",
       "     'width': 1476}],\n",
       "   'place_id': 'ChIJ-4Siox9u5kcRm9vM6DcMXyU',\n",
       "   'plus_code': {'compound_code': 'V85W+8H Paris, France',\n",
       "    'global_code': '8FW4V85W+8H'},\n",
       "   'rating': 4.7,\n",
       "   'reference': 'ChIJ-4Siox9u5kcRm9vM6DcMXyU',\n",
       "   'scope': 'GOOGLE',\n",
       "   'types': ['lodging', 'point_of_interest', 'establishment'],\n",
       "   'user_ratings_total': 750,\n",
       "   'vicinity': '20 Avenue Victoria, Paris'},\n",
       "  {'business_status': 'OPERATIONAL',\n",
       "   'geometry': {'location': {'lat': 48.8606342, 'lng': 2.3468978},\n",
       "    'viewport': {'northeast': {'lat': 48.8617746302915,\n",
       "      'lng': 2.347927730291502},\n",
       "     'southwest': {'lat': 48.8590766697085, 'lng': 2.345229769708499}}},\n",
       "   'icon': 'https://maps.gstatic.com/mapfiles/place_api/icons/v1/png_71/lodging-71.png',\n",
       "   'icon_background_color': '#909CE1',\n",
       "   'icon_mask_base_uri': 'https://maps.gstatic.com/mapfiles/place_api/icons/v2/hotel_pinlet',\n",
       "   'name': 'Citadines Les Halles Paris',\n",
       "   'opening_hours': {'open_now': True},\n",
       "   'photos': [{'height': 853,\n",
       "     'html_attributions': ['<a href=\"https://maps.google.com/maps/contrib/102565262508115704337\">Citadines Apart&#39;hotel Les Halles Paris</a>'],\n",
       "     'photo_reference': 'AeJbb3cKUGpbMv8h8OXwIjqE07gNQZIhKtMJx5KhA4rN-SpFhuyKntWIFVd2UGvPpfomAusCaymQqTcya6mRX-Q31SZTd9siycWzBVY_GXGddymaGIQGzpw4rgv71vz-UBpsH7hpwPUZ4fW43LIGA2QfAFeJPFawrgBHEDFKJbVvFgOqKdGz',\n",
       "     'width': 1280}],\n",
       "   'place_id': 'ChIJQ_QDrxhu5kcRJzNxLLEOSfU',\n",
       "   'plus_code': {'compound_code': 'V86W+7Q Paris, France',\n",
       "    'global_code': '8FW4V86W+7Q'},\n",
       "   'rating': 4.1,\n",
       "   'reference': 'ChIJQ_QDrxhu5kcRJzNxLLEOSfU',\n",
       "   'scope': 'GOOGLE',\n",
       "   'types': ['city_hall',\n",
       "    'lodging',\n",
       "    'local_government_office',\n",
       "    'point_of_interest',\n",
       "    'establishment'],\n",
       "   'user_ratings_total': 920,\n",
       "   'vicinity': '4 Rue des Innocents, Paris'},\n",
       "  {'business_status': 'OPERATIONAL',\n",
       "   'geometry': {'location': {'lat': 48.8607658, 'lng': 2.3465318},\n",
       "    'viewport': {'northeast': {'lat': 48.8620584302915,\n",
       "      'lng': 2.347692880291501},\n",
       "     'southwest': {'lat': 48.85936046970851, 'lng': 2.344994919708498}}},\n",
       "   'icon': 'https://maps.gstatic.com/mapfiles/place_api/icons/v1/png_71/lodging-71.png',\n",
       "   'icon_background_color': '#909CE1',\n",
       "   'icon_mask_base_uri': 'https://maps.gstatic.com/mapfiles/place_api/icons/v2/hotel_pinlet',\n",
       "   'name': 'Novotel Paris Les Halles',\n",
       "   'photos': [{'height': 2000,\n",
       "     'html_attributions': ['<a href=\"https://maps.google.com/maps/contrib/111815616573299411056\">Novotel Paris Les Halles</a>'],\n",
       "     'photo_reference': 'AeJbb3elXlhWMCHv4W8FBTyx1q3I07BMVilTA84Tix0dcEEh1rGgO6SsSCOEpED1OuGDgdwd80xyNdd5lrgVwAPxyl1AjanpGNSjYEDpMmbFzFGSSahchNFqHmD0zuVOZv68XdM5aipcjX1whtPD3GESW6_57dyBp4N-FxGbav5izY55gGuI',\n",
       "     'width': 3000}],\n",
       "   'place_id': 'ChIJGW2pNx9u5kcRI3oyL8NG5BQ',\n",
       "   'plus_code': {'compound_code': 'V86W+8J Paris, France',\n",
       "    'global_code': '8FW4V86W+8J'},\n",
       "   'rating': 4.4,\n",
       "   'reference': 'ChIJGW2pNx9u5kcRI3oyL8NG5BQ',\n",
       "   'scope': 'GOOGLE',\n",
       "   'types': ['lodging', 'point_of_interest', 'establishment'],\n",
       "   'user_ratings_total': 2573,\n",
       "   'vicinity': '8 Place Marguerite de Navarre, Paris'},\n",
       "  {'business_status': 'OPERATIONAL',\n",
       "   'geometry': {'location': {'lat': 48.860352, 'lng': 2.3440948},\n",
       "    'viewport': {'northeast': {'lat': 48.86165553029149,\n",
       "      'lng': 2.345549080291502},\n",
       "     'southwest': {'lat': 48.8589575697085, 'lng': 2.342851119708498}}},\n",
       "   'icon': 'https://maps.gstatic.com/mapfiles/place_api/icons/v1/png_71/lodging-71.png',\n",
       "   'icon_background_color': '#909CE1',\n",
       "   'icon_mask_base_uri': 'https://maps.gstatic.com/mapfiles/place_api/icons/v2/hotel_pinlet',\n",
       "   'name': 'Hôtel Ducs de Bourgogne',\n",
       "   'opening_hours': {'open_now': True},\n",
       "   'photos': [{'height': 1390,\n",
       "     'html_attributions': ['<a href=\"https://maps.google.com/maps/contrib/101411638353598558320\">Hôtel Ducs de Bourgogne</a>'],\n",
       "     'photo_reference': 'AeJbb3fT3hUaQafnttbj1XJUYAjPjaqNH7EepA2htbWr44U7AF_HYT1LLuTPJM_MztZosMzYNFbw64P0TJy4FXpbyNleAiyhrwaeaQWf7H_G7JeC4wbr2DCovbtW7vq5YD5Xrn6_JgA-GTVOpjSyhvEfTFok8PDg8qvoc2aJ-kBaRmAqWzQQ',\n",
       "     'width': 2048}],\n",
       "   'place_id': 'ChIJifTG5yFu5kcRdnisbwxnAx4',\n",
       "   'plus_code': {'compound_code': 'V86V+4J Paris, France',\n",
       "    'global_code': '8FW4V86V+4J'},\n",
       "   'rating': 4.5,\n",
       "   'reference': 'ChIJifTG5yFu5kcRdnisbwxnAx4',\n",
       "   'scope': 'GOOGLE',\n",
       "   'types': ['lodging', 'point_of_interest', 'establishment'],\n",
       "   'user_ratings_total': 303,\n",
       "   'vicinity': '19 Rue du Pont Neuf, Paris'},\n",
       "  {'business_status': 'OPERATIONAL',\n",
       "   'geometry': {'location': {'lat': 48.8555091, 'lng': 2.3408736},\n",
       "    'viewport': {'northeast': {'lat': 48.8569076302915,\n",
       "      'lng': 2.342319280291502},\n",
       "     'southwest': {'lat': 48.8542096697085, 'lng': 2.339621319708498}}},\n",
       "   'icon': 'https://maps.gstatic.com/mapfiles/place_api/icons/v1/png_71/lodging-71.png',\n",
       "   'icon_background_color': '#909CE1',\n",
       "   'icon_mask_base_uri': 'https://maps.gstatic.com/mapfiles/place_api/icons/v2/hotel_pinlet',\n",
       "   'name': 'Citadines Saint-Germain-des-Prés Paris (Apart hotel Paris)',\n",
       "   'opening_hours': {'open_now': True},\n",
       "   'photos': [{'height': 4480,\n",
       "     'html_attributions': ['<a href=\"https://maps.google.com/maps/contrib/113188832595116816387\">Citadines Saint-Germain-des-Prés Paris (Apart Hotel Paris)</a>'],\n",
       "     'photo_reference': 'AeJbb3cqdYvO7rcMyEXwdrKLB53rOPBOmwV5YVKeoyOAolmYUdBcj-ImNxoC0ND6Z7QWmXKhBLz2bi9xXKD200V5roixv8u44B40XDPAnbvdpzJf_iIQxR2ElItwi0vuiY3WunCRwU-fn0SnPOcfiB-8h-HpV85NtTkdh4OraoQKs_2p1PhK',\n",
       "     'width': 6720}],\n",
       "   'place_id': 'ChIJo5pYcN9x5kcRERXdocMgqmE',\n",
       "   'plus_code': {'compound_code': 'V84R+68 Paris, France',\n",
       "    'global_code': '8FW4V84R+68'},\n",
       "   'rating': 4.3,\n",
       "   'reference': 'ChIJo5pYcN9x5kcRERXdocMgqmE',\n",
       "   'scope': 'GOOGLE',\n",
       "   'types': ['city_hall',\n",
       "    'lodging',\n",
       "    'local_government_office',\n",
       "    'point_of_interest',\n",
       "    'establishment'],\n",
       "   'user_ratings_total': 748,\n",
       "   'vicinity': '53 ter Quai des Grands Augustins, Paris'},\n",
       "  {'business_status': 'OPERATIONAL',\n",
       "   'geometry': {'location': {'lat': 48.8524547, 'lng': 2.3472064},\n",
       "    'viewport': {'northeast': {'lat': 48.8538838802915,\n",
       "      'lng': 2.348601530291502},\n",
       "     'southwest': {'lat': 48.8511859197085, 'lng': 2.345903569708498}}},\n",
       "   'icon': 'https://maps.gstatic.com/mapfiles/place_api/icons/v1/png_71/lodging-71.png',\n",
       "   'icon_background_color': '#909CE1',\n",
       "   'icon_mask_base_uri': 'https://maps.gstatic.com/mapfiles/place_api/icons/v2/hotel_pinlet',\n",
       "   'name': 'Hôtel Esmeralda',\n",
       "   'opening_hours': {'open_now': False},\n",
       "   'photos': [{'height': 1960,\n",
       "     'html_attributions': ['<a href=\"https://maps.google.com/maps/contrib/106443224837840180239\">Fraz A. Khan</a>'],\n",
       "     'photo_reference': 'AeJbb3edqRrOV-ymxAd8qedGkevs0uHlpk2mx0T7nqQOQUy-uCirQyZcErPU9AAFjFOeb83R0NRkVrWt9tg050eGof8coUyf9ttNrbB9POZ46Kgc7Bnquhj9EPe7wKhzSLmZ4I-NsPeaon6ULZyR-FQNfhPmQ42FsEE9XTGPSBA2O3ZfJIao',\n",
       "     'width': 4032}],\n",
       "   'place_id': 'ChIJO_g_H-Fx5kcRmaabUHA3dT4',\n",
       "   'plus_code': {'compound_code': 'V82W+XV Paris, France',\n",
       "    'global_code': '8FW4V82W+XV'},\n",
       "   'rating': 4.1,\n",
       "   'reference': 'ChIJO_g_H-Fx5kcRmaabUHA3dT4',\n",
       "   'scope': 'GOOGLE',\n",
       "   'types': ['lodging', 'point_of_interest', 'establishment'],\n",
       "   'user_ratings_total': 169,\n",
       "   'vicinity': '4 Rue Saint-Julien le Pauvre, Paris'},\n",
       "  {'business_status': 'OPERATIONAL',\n",
       "   'geometry': {'location': {'lat': 48.8530901, 'lng': 2.3447174},\n",
       "    'viewport': {'northeast': {'lat': 48.8544535802915,\n",
       "      'lng': 2.345997680291501},\n",
       "     'southwest': {'lat': 48.85175561970851, 'lng': 2.343299719708498}}},\n",
       "   'icon': 'https://maps.gstatic.com/mapfiles/place_api/icons/v1/png_71/lodging-71.png',\n",
       "   'icon_background_color': '#909CE1',\n",
       "   'icon_mask_base_uri': 'https://maps.gstatic.com/mapfiles/place_api/icons/v2/hotel_pinlet',\n",
       "   'name': 'Albe Hotel',\n",
       "   'opening_hours': {'open_now': True},\n",
       "   'photos': [{'height': 1152,\n",
       "     'html_attributions': ['<a href=\"https://maps.google.com/maps/contrib/117571951379278191466\">Albe Hotel Saint Michel</a>'],\n",
       "     'photo_reference': 'AeJbb3fo8tvukpBwxmNG9By0MyfiUJL9GM80fFsWSDIIc4SUsypi6zV_RLmjA9qzVIcnfs8RM47UnZsfP-wyvzZv_rwVkuQg4A5jbwDDZ9bhJG574IvNQE6_KFPPJUHl5CB36QDBtGQHbltL1qtd_PXB5AByF73A5__fUkw5pYtfI_XNxLkh',\n",
       "     'width': 1600}],\n",
       "   'place_id': 'ChIJ8R5-hOBx5kcRsCOdfj8GLeY',\n",
       "   'plus_code': {'compound_code': 'V83V+6V Paris, France',\n",
       "    'global_code': '8FW4V83V+6V'},\n",
       "   'rating': 4.4,\n",
       "   'reference': 'ChIJ8R5-hOBx5kcRsCOdfj8GLeY',\n",
       "   'scope': 'GOOGLE',\n",
       "   'types': ['lodging', 'point_of_interest', 'establishment'],\n",
       "   'user_ratings_total': 370,\n",
       "   'vicinity': '1 Rue de la Harpe, Paris'},\n",
       "  {'business_status': 'OPERATIONAL',\n",
       "   'geometry': {'location': {'lat': 48.8532403, 'lng': 2.3457375},\n",
       "    'viewport': {'northeast': {'lat': 48.85462748029149,\n",
       "      'lng': 2.347175730291502},\n",
       "     'southwest': {'lat': 48.8519295197085, 'lng': 2.344477769708498}}},\n",
       "   'icon': 'https://maps.gstatic.com/mapfiles/place_api/icons/v1/png_71/lodging-71.png',\n",
       "   'icon_background_color': '#909CE1',\n",
       "   'icon_mask_base_uri': 'https://maps.gstatic.com/mapfiles/place_api/icons/v2/hotel_pinlet',\n",
       "   'name': 'Les Rives de Notre-Dame Hotel',\n",
       "   'opening_hours': {'open_now': True},\n",
       "   'photos': [{'height': 4024,\n",
       "     'html_attributions': ['<a href=\"https://maps.google.com/maps/contrib/116242575283063930652\">Michael Scholz</a>'],\n",
       "     'photo_reference': 'AeJbb3cMIX0mHItj37xZFG_72jhNbqGzhhVcsXFuzd_bOorTBymln0oZ4lKsvDaIr8GMSULFRPpPGcXYiBIFFcv3gtizf0zbKNTGjNfQ5oQtfAHSvnxkmWOP36J9E44boSM-hUyFk0_h-qR85YX6O7UXDFBd9Fc4iudx3W_p0BTwr7aFSf5S',\n",
       "     'width': 6048}],\n",
       "   'place_id': 'ChIJl7vs8-Bx5kcRfIQzq_4_XmU',\n",
       "   'plus_code': {'compound_code': 'V83W+77 Paris, France',\n",
       "    'global_code': '8FW4V83W+77'},\n",
       "   'rating': 4.5,\n",
       "   'reference': 'ChIJl7vs8-Bx5kcRfIQzq_4_XmU',\n",
       "   'scope': 'GOOGLE',\n",
       "   'types': ['lodging', 'point_of_interest', 'establishment'],\n",
       "   'user_ratings_total': 101,\n",
       "   'vicinity': '15 Quai Saint-Michel, Paris'},\n",
       "  {'business_status': 'OPERATIONAL',\n",
       "   'geometry': {'location': {'lat': 48.85184049999999, 'lng': 2.3448082},\n",
       "    'viewport': {'northeast': {'lat': 48.8531470802915,\n",
       "      'lng': 2.346121880291502},\n",
       "     'southwest': {'lat': 48.8504491197085, 'lng': 2.343423919708498}}},\n",
       "   'icon': 'https://maps.gstatic.com/mapfiles/place_api/icons/v1/png_71/lodging-71.png',\n",
       "   'icon_background_color': '#909CE1',\n",
       "   'icon_mask_base_uri': 'https://maps.gstatic.com/mapfiles/place_api/icons/v2/hotel_pinlet',\n",
       "   'name': 'Hôtel 4 étoiles Parc Saint-Séverin Paris 5ème - Esprit de France',\n",
       "   'opening_hours': {'open_now': True},\n",
       "   'photos': [{'height': 2362,\n",
       "     'html_attributions': ['<a href=\"https://maps.google.com/maps/contrib/107542132357877294567\">Hôtel 4 étoiles Parc Saint Séverin Paris 5ème - Esprit de France</a>'],\n",
       "     'photo_reference': 'AeJbb3cUqQRvTrjrQHm47MHsF-Jvg6U3y7W0juJajvzQ4xqJjiDihQsujhuF6VbMo2plpF1uCJoz_2TffSsYi6He8aEK21AVZ_qkoDPsWI1zOSfOs_PoqGYtpMTT2tRlGGyY8CH6ad-rYijgX5abFXEPVWjedFnvw4W-lbtP2hxJIBwEHvLq',\n",
       "     'width': 3776}],\n",
       "   'place_id': 'ChIJ9--kuuBx5kcRojwQ1yEK2cY',\n",
       "   'plus_code': {'compound_code': 'V82V+PW Paris, France',\n",
       "    'global_code': '8FW4V82V+PW'},\n",
       "   'rating': 4.6,\n",
       "   'reference': 'ChIJ9--kuuBx5kcRojwQ1yEK2cY',\n",
       "   'scope': 'GOOGLE',\n",
       "   'types': ['lodging', 'point_of_interest', 'establishment'],\n",
       "   'user_ratings_total': 183,\n",
       "   'vicinity': '22 Rue de la Parcheminerie, Paris'},\n",
       "  {'business_status': 'OPERATIONAL',\n",
       "   'geometry': {'location': {'lat': 48.8518743, 'lng': 2.3463436},\n",
       "    'viewport': {'northeast': {'lat': 48.8532481802915,\n",
       "      'lng': 2.347596830291502},\n",
       "     'southwest': {'lat': 48.8505502197085, 'lng': 2.344898869708498}}},\n",
       "   'icon': 'https://maps.gstatic.com/mapfiles/place_api/icons/v1/png_71/lodging-71.png',\n",
       "   'icon_background_color': '#909CE1',\n",
       "   'icon_mask_base_uri': 'https://maps.gstatic.com/mapfiles/place_api/icons/v2/hotel_pinlet',\n",
       "   'name': 'Hotel Henri IV Rive Gauche',\n",
       "   'photos': [{'height': 3024,\n",
       "     'html_attributions': ['<a href=\"https://maps.google.com/maps/contrib/110759590658386679133\">François TAPIEZO ART</a>'],\n",
       "     'photo_reference': 'AeJbb3eTTDeHoEfdV2WaagUONQK46hxN4u8pU44NQDHH-YtELhVoNyTALmzwBXFzXF1Fu8KTXfd8x6GYQaxhhZrwJ8pI9zF6In4B1Akzqu3IDf3rGnuaeKSOFy-MMeR0SkXtunBpb4gzXEXDqG9I4XPjAXj8Pube4QOLlZcrVfdpzE7LQtgP',\n",
       "     'width': 4032}],\n",
       "   'place_id': 'ChIJ2a4f2-Bx5kcR40Wl3uv_53Y',\n",
       "   'plus_code': {'compound_code': 'V82W+PG Paris, France',\n",
       "    'global_code': '8FW4V82W+PG'},\n",
       "   'rating': 4.5,\n",
       "   'reference': 'ChIJ2a4f2-Bx5kcR40Wl3uv_53Y',\n",
       "   'scope': 'GOOGLE',\n",
       "   'types': ['lodging', 'point_of_interest', 'establishment'],\n",
       "   'user_ratings_total': 163,\n",
       "   'vicinity': 'Rue Saint-Jacques, Paris'},\n",
       "  {'business_status': 'OPERATIONAL',\n",
       "   'geometry': {'location': {'lat': 48.8600866, 'lng': 2.3533543},\n",
       "    'viewport': {'northeast': {'lat': 48.86148808029149,\n",
       "      'lng': 2.354740780291502},\n",
       "     'southwest': {'lat': 48.85879011970849, 'lng': 2.352042819708498}}},\n",
       "   'icon': 'https://maps.gstatic.com/mapfiles/place_api/icons/v1/png_71/lodging-71.png',\n",
       "   'icon_background_color': '#909CE1',\n",
       "   'icon_mask_base_uri': 'https://maps.gstatic.com/mapfiles/place_api/icons/v2/hotel_pinlet',\n",
       "   'name': 'Hôtel Beaubourg',\n",
       "   'opening_hours': {'open_now': True},\n",
       "   'photos': [{'height': 3435,\n",
       "     'html_attributions': ['<a href=\"https://maps.google.com/maps/contrib/115421447635584539926\">Hôtel Beaubourg</a>'],\n",
       "     'photo_reference': 'AeJbb3dzJBOVcW4DZFwy4bzxzMckufz7_oIsPu7LBb1H1_7kL_KOhDqmQ65zIyqGlRX-xsXETLI_cEHhK56bsXye9iXwplg3mevr_1GTWNFkJIRUL7kH1Y-oSzRZeQ65BtHsUz0ZMJ80H__xPTK00U-8lofwn926_ycfd_1FRXxf_0V8kRlX',\n",
       "     'width': 5153}],\n",
       "   'place_id': 'ChIJCdHKjhxu5kcR0YtyGr7Vftc',\n",
       "   'plus_code': {'compound_code': 'V963+28 Paris, France',\n",
       "    'global_code': '8FW4V963+28'},\n",
       "   'rating': 4.2,\n",
       "   'reference': 'ChIJCdHKjhxu5kcR0YtyGr7Vftc',\n",
       "   'scope': 'GOOGLE',\n",
       "   'types': ['lodging', 'point_of_interest', 'establishment'],\n",
       "   'user_ratings_total': 159,\n",
       "   'vicinity': '11 Rue Simon le Franc, Paris'},\n",
       "  {'business_status': 'OPERATIONAL',\n",
       "   'geometry': {'location': {'lat': 48.859876, 'lng': 2.347049},\n",
       "    'viewport': {'northeast': {'lat': 48.86117138029149,\n",
       "      'lng': 2.348348980291501},\n",
       "     'southwest': {'lat': 48.8584734197085, 'lng': 2.345651019708498}}},\n",
       "   'icon': 'https://maps.gstatic.com/mapfiles/place_api/icons/v1/png_71/lodging-71.png',\n",
       "   'icon_background_color': '#909CE1',\n",
       "   'icon_mask_base_uri': 'https://maps.gstatic.com/mapfiles/place_api/icons/v2/hotel_pinlet',\n",
       "   'name': \"Hôtel Des Ducs D'Anjou\",\n",
       "   'opening_hours': {'open_now': True},\n",
       "   'photos': [{'height': 1400,\n",
       "     'html_attributions': ['<a href=\"https://maps.google.com/maps/contrib/115209143941459061727\">Hotel Des Ducs D&#39;Anjou</a>'],\n",
       "     'photo_reference': 'AeJbb3cUIFkEmYRATPve5tlrEp-44ZPlHbIQQfh56rc8N8PHsFp7FZsnNjt9axUGdgFAbT_EwsVX-ARk97TGcGAn6DNeY1QQumcZ1bJM4XY4MRKdsEFceRsZ5DNSYGQWdlUJ-dUDOgq_VW2UrgvA9B2Tx7VRzI1UFJf2TkZL-Z3RlHLWOPp7',\n",
       "     'width': 1352}],\n",
       "   'place_id': 'ChIJ9ekWGR9u5kcRsS8j5TnWeSE',\n",
       "   'plus_code': {'compound_code': 'V85W+XR Paris, France',\n",
       "    'global_code': '8FW4V85W+XR'},\n",
       "   'rating': 3.9,\n",
       "   'reference': 'ChIJ9ekWGR9u5kcRsS8j5TnWeSE',\n",
       "   'scope': 'GOOGLE',\n",
       "   'types': ['lodging', 'point_of_interest', 'establishment'],\n",
       "   'user_ratings_total': 329,\n",
       "   'vicinity': '1 Rue Sainte-Opportune, Paris'},\n",
       "  {'business_status': 'OPERATIONAL',\n",
       "   'geometry': {'location': {'lat': 48.8515237, 'lng': 2.3486679},\n",
       "    'viewport': {'northeast': {'lat': 48.8529256302915,\n",
       "      'lng': 2.349962130291502},\n",
       "     'southwest': {'lat': 48.8502276697085, 'lng': 2.347264169708498}}},\n",
       "   'icon': 'https://maps.gstatic.com/mapfiles/place_api/icons/v1/png_71/lodging-71.png',\n",
       "   'icon_background_color': '#909CE1',\n",
       "   'icon_mask_base_uri': 'https://maps.gstatic.com/mapfiles/place_api/icons/v2/hotel_pinlet',\n",
       "   'name': 'Hotel Maison Colbert Member of Meliá Collection',\n",
       "   'opening_hours': {'open_now': True},\n",
       "   'photos': [{'height': 3656,\n",
       "     'html_attributions': ['<a href=\"https://maps.google.com/maps/contrib/102194778927204133336\">Hotel Maison Colbert Member of Meliá Collection</a>'],\n",
       "     'photo_reference': 'AeJbb3dXYKmANIY-FXumimBp14HiffKNU5LNZZx8iH-dm_2ySbPQccZ0YNGXuXo8TuzFG3AQWuSh0iHUPNcprUocrgBq4hgZUuL24krA0RIZZOup0U7XZdY-eDr9NdrVdRkR4PPG_YVcW7bADPqtWmtd-m453g8yWP_9y2XgCj2A5ZXDwwmD',\n",
       "     'width': 3543}],\n",
       "   'place_id': 'ChIJI3vbSOFx5kcR84E4IeL2LqI',\n",
       "   'plus_code': {'compound_code': 'V82X+JF Paris, France',\n",
       "    'global_code': '8FW4V82X+JF'},\n",
       "   'rating': 4.5,\n",
       "   'reference': 'ChIJI3vbSOFx5kcR84E4IeL2LqI',\n",
       "   'scope': 'GOOGLE',\n",
       "   'types': ['lodging', 'point_of_interest', 'establishment'],\n",
       "   'user_ratings_total': 16,\n",
       "   'vicinity': \"7 Rue de l'Hôtel Colbert, Paris\"},\n",
       "  {'business_status': 'OPERATIONAL',\n",
       "   'geometry': {'location': {'lat': 48.8499446, 'lng': 2.346247699999999},\n",
       "    'viewport': {'northeast': {'lat': 48.8513264802915,\n",
       "      'lng': 2.347622530291501},\n",
       "     'southwest': {'lat': 48.8486285197085, 'lng': 2.344924569708497}}},\n",
       "   'icon': 'https://maps.gstatic.com/mapfiles/place_api/icons/v1/png_71/lodging-71.png',\n",
       "   'icon_background_color': '#909CE1',\n",
       "   'icon_mask_base_uri': 'https://maps.gstatic.com/mapfiles/place_api/icons/v2/hotel_pinlet',\n",
       "   'name': 'Home Latin',\n",
       "   'photos': [{'height': 4080,\n",
       "     'html_attributions': ['<a href=\"https://maps.google.com/maps/contrib/113966656287531023757\">Ioan Mihael</a>'],\n",
       "     'photo_reference': 'AeJbb3c0JCYvi_TqQst2N-GSfr9fedTrZSzjpjH3EqUG04YgFb_7i4PcWLXSTUrx9cCdAzfHeWCpZwOJZqa1-O1IzdNtAoreKpnsbxUJAykSRd9Ro40DMzoLcQgoVy-X86W-dWgTSB9hRFGQjQYXeW1Tfidvfz70OjHCp6KP2gQI8enDttm9',\n",
       "     'width': 3072}],\n",
       "   'place_id': 'ChIJMWNDIudx5kcRupjNdNDYKkw',\n",
       "   'plus_code': {'compound_code': 'R8XW+XF Paris, France',\n",
       "    'global_code': '8FW4R8XW+XF'},\n",
       "   'rating': 3.5,\n",
       "   'reference': 'ChIJMWNDIudx5kcRupjNdNDYKkw',\n",
       "   'scope': 'GOOGLE',\n",
       "   'types': ['lodging', 'point_of_interest', 'establishment'],\n",
       "   'user_ratings_total': 344,\n",
       "   'vicinity': '15-17 Rue du Sommerard, Paris'},\n",
       "  {'business_status': 'OPERATIONAL',\n",
       "   'geometry': {'location': {'lat': 48.8514465, 'lng': 2.3495407},\n",
       "    'viewport': {'northeast': {'lat': 48.85276158029151,\n",
       "      'lng': 2.350874680291501},\n",
       "     'southwest': {'lat': 48.85006361970851, 'lng': 2.348176719708498}}},\n",
       "   'icon': 'https://maps.gstatic.com/mapfiles/place_api/icons/v1/png_71/lodging-71.png',\n",
       "   'icon_background_color': '#909CE1',\n",
       "   'icon_mask_base_uri': 'https://maps.gstatic.com/mapfiles/place_api/icons/v2/hotel_pinlet',\n",
       "   'name': 'Les Degrés de Notre Dame',\n",
       "   'photos': [{'height': 1984,\n",
       "     'html_attributions': ['<a href=\"https://maps.google.com/maps/contrib/115564994803632359392\">christophe etter</a>'],\n",
       "     'photo_reference': 'AeJbb3dl5-iglnB75N4b57iuBb0VU8uvAUStqTvQZbCWrDpe7qAjLyzMUQxXggWEQO3Gz_P8owRTcr3UlR-ChGYEqVrj4PuAG-x7pUmlq-ZrbKVQHja3j7yXH74CnUrEyGVOymhcOmDnelVCq9VN8ICDW8FNOp5DacYZroigd03Cve1tT-aH',\n",
       "     'width': 3968}],\n",
       "   'place_id': 'ChIJMyUCVOFx5kcRcLsa7V0Y1m4',\n",
       "   'plus_code': {'compound_code': 'V82X+HR Paris, France',\n",
       "    'global_code': '8FW4V82X+HR'},\n",
       "   'rating': 3.8,\n",
       "   'reference': 'ChIJMyUCVOFx5kcRcLsa7V0Y1m4',\n",
       "   'scope': 'GOOGLE',\n",
       "   'types': ['lodging', 'point_of_interest', 'establishment'],\n",
       "   'user_ratings_total': 78,\n",
       "   'vicinity': '10 Rue des Grands Degrés, Paris'},\n",
       "  {'business_status': 'OPERATIONAL',\n",
       "   'geometry': {'location': {'lat': 48.85221300000001, 'lng': 2.3420703},\n",
       "    'viewport': {'northeast': {'lat': 48.8535826302915,\n",
       "      'lng': 2.343484980291502},\n",
       "     'southwest': {'lat': 48.8508846697085, 'lng': 2.340787019708498}}},\n",
       "   'icon': 'https://maps.gstatic.com/mapfiles/place_api/icons/v1/png_71/lodging-71.png',\n",
       "   'icon_background_color': '#909CE1',\n",
       "   'icon_mask_base_uri': 'https://maps.gstatic.com/mapfiles/place_api/icons/v2/hotel_pinlet',\n",
       "   'name': 'Hôtel Du Lys',\n",
       "   'photos': [{'height': 4000,\n",
       "     'html_attributions': ['<a href=\"https://maps.google.com/maps/contrib/114730070775510202970\">P Rodriguez</a>'],\n",
       "     'photo_reference': 'AeJbb3dmK7AWhgkvO7HQH6b0AWrb05yp83XqIyZZvpkXBa27Qup1fuSDdsHepydvZHH5OSecTXwqDYRn3gpIGLsP1YwwQ9AieMA9Ax6rp17Drzld8MjJLX91NvEeYpbwXQ4ZaoVa5S6npDW-xt9rR0j78CvHGzw2GS62kWxYs9CAvn6x8gxV',\n",
       "     'width': 3000}],\n",
       "   'place_id': 'ChIJrcnEaN5x5kcRjjOnEG6_HHs',\n",
       "   'plus_code': {'compound_code': 'V82R+VR Paris, France',\n",
       "    'global_code': '8FW4V82R+VR'},\n",
       "   'rating': 3.8,\n",
       "   'reference': 'ChIJrcnEaN5x5kcRjjOnEG6_HHs',\n",
       "   'scope': 'GOOGLE',\n",
       "   'types': ['lodging', 'point_of_interest', 'establishment'],\n",
       "   'user_ratings_total': 243,\n",
       "   'vicinity': '23 Rue Serpente, Paris'},\n",
       "  {'business_status': 'OPERATIONAL',\n",
       "   'geometry': {'location': {'lat': 48.8607212, 'lng': 2.342585},\n",
       "    'viewport': {'northeast': {'lat': 48.8620849802915,\n",
       "      'lng': 2.343869380291502},\n",
       "     'southwest': {'lat': 48.8593870197085, 'lng': 2.341171419708498}}},\n",
       "   'icon': 'https://maps.gstatic.com/mapfiles/place_api/icons/v1/png_71/lodging-71.png',\n",
       "   'icon_background_color': '#909CE1',\n",
       "   'icon_mask_base_uri': 'https://maps.gstatic.com/mapfiles/place_api/icons/v2/hotel_pinlet',\n",
       "   'name': \"L'Empire Paris\",\n",
       "   'opening_hours': {'open_now': True},\n",
       "   'photos': [{'height': 1123,\n",
       "     'html_attributions': ['<a href=\"https://maps.google.com/maps/contrib/112201701198428774080\">L&#39;Empire Paris</a>'],\n",
       "     'photo_reference': 'AeJbb3dwGbSoSFxwlGR7MeagDjQb6oV67khxpNWTF3TqvCkkaJfXVApfCpnoyhFnKqeVTTWITkah7wI4c4exZFGhmu5BYjte48F4a8G1WJPDKUJbm0iwrZyt3chAzvNBZSe_5_eUStf2ifTrI8bBqUNHjy17YAt_ser2VIOB3BhVdAzKFhQO',\n",
       "     'width': 2000}],\n",
       "   'place_id': 'ChIJ0Wj4hCFu5kcRQ67Hb2M6b9Q',\n",
       "   'plus_code': {'compound_code': 'V86V+72 Paris, France',\n",
       "    'global_code': '8FW4V86V+72'},\n",
       "   'rating': 4.2,\n",
       "   'reference': 'ChIJ0Wj4hCFu5kcRQ67Hb2M6b9Q',\n",
       "   'scope': 'GOOGLE',\n",
       "   'types': ['lodging', 'point_of_interest', 'establishment'],\n",
       "   'user_ratings_total': 482,\n",
       "   'vicinity': \"48 Rue de l'Arbre Sec, Paris\"},\n",
       "  {'business_status': 'OPERATIONAL',\n",
       "   'geometry': {'location': {'lat': 48.85924579999999,\n",
       "     'lng': 2.341004799999999},\n",
       "    'viewport': {'northeast': {'lat': 48.8606175802915,\n",
       "      'lng': 2.342363980291502},\n",
       "     'southwest': {'lat': 48.8579196197085, 'lng': 2.339666019708498}}},\n",
       "   'icon': 'https://maps.gstatic.com/mapfiles/place_api/icons/v1/png_71/lodging-71.png',\n",
       "   'icon_background_color': '#909CE1',\n",
       "   'icon_mask_base_uri': 'https://maps.gstatic.com/mapfiles/place_api/icons/v2/hotel_pinlet',\n",
       "   'name': 'Hotel Relais Du Louvre',\n",
       "   'photos': [{'height': 3024,\n",
       "     'html_attributions': ['<a href=\"https://maps.google.com/maps/contrib/108368902339576647054\">Joe Belknap Wall</a>'],\n",
       "     'photo_reference': 'AeJbb3fVjNABefza3Nx8rgGuebj8da0n1z1l2jTkwhaDhWaZHgAu2tXQlTpfrdegKbap6KlsJ58euzI0F8kCwSSjFMKB9N8sVQ08Qv_Nq8_-8X6orqT2UJe2lAW0QjvHxv-HF-dTY8O9m0M7Drly7uxiCRGGwBNATyhM9hovxUcCn6QBbjgh',\n",
       "     'width': 3024}],\n",
       "   'place_id': 'ChIJb4ExGiFu5kcRx-LufqT5JSw',\n",
       "   'plus_code': {'compound_code': 'V85R+MC Paris, France',\n",
       "    'global_code': '8FW4V85R+MC'},\n",
       "   'rating': 4.6,\n",
       "   'reference': 'ChIJb4ExGiFu5kcRx-LufqT5JSw',\n",
       "   'scope': 'GOOGLE',\n",
       "   'types': ['lodging', 'point_of_interest', 'establishment'],\n",
       "   'user_ratings_total': 145,\n",
       "   'vicinity': \"19 Rue des Prêtres Saint-Germain l'Auxerrois, Paris\"},\n",
       "  {'business_status': 'OPERATIONAL',\n",
       "   'geometry': {'location': {'lat': 48.8632711, 'lng': 2.352693},\n",
       "    'viewport': {'northeast': {'lat': 48.86461498029149,\n",
       "      'lng': 2.353958580291502},\n",
       "     'southwest': {'lat': 48.8619170197085, 'lng': 2.351260619708498}}},\n",
       "   'icon': 'https://maps.gstatic.com/mapfiles/place_api/icons/v1/png_71/lodging-71.png',\n",
       "   'icon_background_color': '#909CE1',\n",
       "   'icon_mask_base_uri': 'https://maps.gstatic.com/mapfiles/place_api/icons/v2/hotel_pinlet',\n",
       "   'name': 'Hôtel Georgette',\n",
       "   'opening_hours': {'open_now': True},\n",
       "   'photos': [{'height': 1181,\n",
       "     'html_attributions': ['<a href=\"https://maps.google.com/maps/contrib/112851757923591367842\">Hôtel Georgette</a>'],\n",
       "     'photo_reference': 'AeJbb3ciH4ScfA9GwiK3YPqq7Nl9JScLi9_5P-xxxvU_-GB1GspaKBLNmbnLNKmzYqVuZulg1xXDv14pLfKGBGIyuAwDYYX5BSTyQO8fPclsdO_RBeyKUi6LTP81R41aV5-24tMY8zgcK-EF9GMFSkAooZFBZkf37nbjCTG21ObIIc5Gqe0j',\n",
       "     'width': 1772}],\n",
       "   'place_id': 'ChIJZ6OWsRtu5kcRuyOkJ6_e06E',\n",
       "   'plus_code': {'compound_code': 'V973+83 Paris, France',\n",
       "    'global_code': '8FW4V973+83'},\n",
       "   'rating': 4.5,\n",
       "   'reference': 'ChIJZ6OWsRtu5kcRuyOkJ6_e06E',\n",
       "   'scope': 'GOOGLE',\n",
       "   'types': ['lodging', 'point_of_interest', 'establishment'],\n",
       "   'user_ratings_total': 215,\n",
       "   'vicinity': '36 Rue du Grenier-Saint-Lazare, Paris'}],\n",
       " 'status': 'OK'}"
      ]
     },
     "execution_count": 65,
     "metadata": {},
     "output_type": "execute_result"
    }
   ],
   "source": [
    "# Set the parameters to search for a hotel in Paris.\n",
    "params = {\n",
    "    \"radius\": 5000,\n",
    "    \"types\": \"lodging\",\n",
    "    \"key\": g_key,\n",
    "    \"location\": \"48.8566, 2.3522\"}\n",
    "# Use base URL to search for hotels in Paris.\n",
    "base_url = \"https://maps.googleapis.com/maps/api/place/nearbysearch/json\"\n",
    "# Make request and get the JSON data from the search.\n",
    "hotels = requests.get(base_url, params=params).json()\n",
    "\n",
    "hotels"
   ]
  },
  {
   "cell_type": "code",
   "execution_count": 66,
   "id": "6199dc7b",
   "metadata": {},
   "outputs": [
    {
     "data": {
      "text/plain": [
       "20"
      ]
     },
     "execution_count": 66,
     "metadata": {},
     "output_type": "execute_result"
    }
   ],
   "source": [
    "len(hotels[\"results\"])"
   ]
  },
  {
   "cell_type": "code",
   "execution_count": 75,
   "id": "ed0c9683",
   "metadata": {},
   "outputs": [
    {
     "name": "stdout",
     "output_type": "stream",
     "text": [
      "Hotel not found... skipping.\n",
      "Hotel not found... skipping.\n",
      "Hotel not found... skipping.\n",
      "Hotel not found... skipping.\n",
      "Hotel not found... skipping.\n",
      "Hotel not found... skipping.\n",
      "Hotel not found... skipping.\n",
      "Hotel not found... skipping.\n",
      "Hotel not found... skipping.\n",
      "Hotel not found... skipping.\n",
      "Hotel not found... skipping.\n"
     ]
    }
   ],
   "source": [
    "# Iterate through the DataFrame.\n",
    "for index, row in hotel_df.iterrows():\n",
    "    # Get the latitude and longitude.\n",
    "    lat = row[\"Lat\"]\n",
    "    lng = row[\"Lng\"]\n",
    "\n",
    "    # Add the latitude and longitude to location key for the params dictionary.\n",
    "    params[\"location\"] = f\"{lat},{lng}\"\n",
    "\n",
    "    # Use the search term: \"lodging\" and our latitude and longitude.\n",
    "    base_url = \"https://maps.googleapis.com/maps/api/place/nearbysearch/json\"\n",
    "    # Make request and get the JSON data from the search.\n",
    "    hotels = requests.get(base_url, params=params).json()\n",
    "    # Grab the first hotel from the results and store the name.\n",
    "    try:\n",
    "     hotel_df.loc[index, \"Hotel Name\"] = hotels[\"results\"][0][\"name\"]\n",
    "    except (IndexError):\n",
    "        print(\"Hotel not found... skipping.\")"
   ]
  },
  {
   "cell_type": "code",
   "execution_count": 76,
   "id": "400858d7",
   "metadata": {
    "scrolled": true
   },
   "outputs": [
    {
     "data": {
      "text/html": [
       "<div>\n",
       "<style scoped>\n",
       "    .dataframe tbody tr th:only-of-type {\n",
       "        vertical-align: middle;\n",
       "    }\n",
       "\n",
       "    .dataframe tbody tr th {\n",
       "        vertical-align: top;\n",
       "    }\n",
       "\n",
       "    .dataframe thead th {\n",
       "        text-align: right;\n",
       "    }\n",
       "</style>\n",
       "<table border=\"1\" class=\"dataframe\">\n",
       "  <thead>\n",
       "    <tr style=\"text-align: right;\">\n",
       "      <th></th>\n",
       "      <th>City</th>\n",
       "      <th>Country</th>\n",
       "      <th>Max Temp</th>\n",
       "      <th>Lat</th>\n",
       "      <th>Lng</th>\n",
       "      <th>Hotel Name</th>\n",
       "    </tr>\n",
       "  </thead>\n",
       "  <tbody>\n",
       "    <tr>\n",
       "      <th>0</th>\n",
       "      <td>Zhuhai</td>\n",
       "      <td>CN</td>\n",
       "      <td>88.86</td>\n",
       "      <td>22.2769</td>\n",
       "      <td>113.5678</td>\n",
       "      <td>珠海粤财假日酒店</td>\n",
       "    </tr>\n",
       "    <tr>\n",
       "      <th>2</th>\n",
       "      <td>Bethel</td>\n",
       "      <td>US</td>\n",
       "      <td>83.19</td>\n",
       "      <td>41.3712</td>\n",
       "      <td>-73.4140</td>\n",
       "      <td>Courtyard by Marriott Danbury</td>\n",
       "    </tr>\n",
       "    <tr>\n",
       "      <th>4</th>\n",
       "      <td>Aktau</td>\n",
       "      <td>KZ</td>\n",
       "      <td>84.78</td>\n",
       "      <td>43.6500</td>\n",
       "      <td>51.2000</td>\n",
       "      <td>Silk Way Hotel</td>\n",
       "    </tr>\n",
       "    <tr>\n",
       "      <th>6</th>\n",
       "      <td>Atuona</td>\n",
       "      <td>PF</td>\n",
       "      <td>77.83</td>\n",
       "      <td>-9.8000</td>\n",
       "      <td>-139.0333</td>\n",
       "      <td>Villa Enata</td>\n",
       "    </tr>\n",
       "    <tr>\n",
       "      <th>9</th>\n",
       "      <td>Bonfim</td>\n",
       "      <td>BR</td>\n",
       "      <td>85.96</td>\n",
       "      <td>3.0833</td>\n",
       "      <td>-59.9500</td>\n",
       "      <td></td>\n",
       "    </tr>\n",
       "    <tr>\n",
       "      <th>14</th>\n",
       "      <td>Taman</td>\n",
       "      <td>RU</td>\n",
       "      <td>78.60</td>\n",
       "      <td>45.2117</td>\n",
       "      <td>36.7161</td>\n",
       "      <td>Staryy Gorod G. Taman'</td>\n",
       "    </tr>\n",
       "    <tr>\n",
       "      <th>22</th>\n",
       "      <td>Kapaa</td>\n",
       "      <td>US</td>\n",
       "      <td>77.11</td>\n",
       "      <td>22.0752</td>\n",
       "      <td>-159.3190</td>\n",
       "      <td>Sheraton Kauai Coconut Beach Resort</td>\n",
       "    </tr>\n",
       "    <tr>\n",
       "      <th>24</th>\n",
       "      <td>Cabo San Lucas</td>\n",
       "      <td>MX</td>\n",
       "      <td>84.61</td>\n",
       "      <td>22.8909</td>\n",
       "      <td>-109.9124</td>\n",
       "      <td>Hotel Tesoro Los Cabos</td>\n",
       "    </tr>\n",
       "    <tr>\n",
       "      <th>33</th>\n",
       "      <td>Ponta Do Sol</td>\n",
       "      <td>PT</td>\n",
       "      <td>79.72</td>\n",
       "      <td>32.6667</td>\n",
       "      <td>-17.1000</td>\n",
       "      <td>Hotel do Campo</td>\n",
       "    </tr>\n",
       "    <tr>\n",
       "      <th>40</th>\n",
       "      <td>Port Elizabeth</td>\n",
       "      <td>ZA</td>\n",
       "      <td>81.10</td>\n",
       "      <td>-33.9180</td>\n",
       "      <td>25.5701</td>\n",
       "      <td>39 On Nile Guest House</td>\n",
       "    </tr>\n",
       "  </tbody>\n",
       "</table>\n",
       "</div>"
      ],
      "text/plain": [
       "              City Country  Max Temp      Lat       Lng  \\\n",
       "0           Zhuhai      CN     88.86  22.2769  113.5678   \n",
       "2           Bethel      US     83.19  41.3712  -73.4140   \n",
       "4            Aktau      KZ     84.78  43.6500   51.2000   \n",
       "6           Atuona      PF     77.83  -9.8000 -139.0333   \n",
       "9           Bonfim      BR     85.96   3.0833  -59.9500   \n",
       "14           Taman      RU     78.60  45.2117   36.7161   \n",
       "22           Kapaa      US     77.11  22.0752 -159.3190   \n",
       "24  Cabo San Lucas      MX     84.61  22.8909 -109.9124   \n",
       "33    Ponta Do Sol      PT     79.72  32.6667  -17.1000   \n",
       "40  Port Elizabeth      ZA     81.10 -33.9180   25.5701   \n",
       "\n",
       "                             Hotel Name  \n",
       "0                              珠海粤财假日酒店  \n",
       "2         Courtyard by Marriott Danbury  \n",
       "4                        Silk Way Hotel  \n",
       "6                           Villa Enata  \n",
       "9                                        \n",
       "14               Staryy Gorod G. Taman'  \n",
       "22  Sheraton Kauai Coconut Beach Resort  \n",
       "24               Hotel Tesoro Los Cabos  \n",
       "33                       Hotel do Campo  \n",
       "40               39 On Nile Guest House  "
      ]
     },
     "execution_count": 76,
     "metadata": {},
     "output_type": "execute_result"
    }
   ],
   "source": [
    "hotel_df.head()"
   ]
  },
  {
   "cell_type": "code",
   "execution_count": 77,
   "id": "ca45931b",
   "metadata": {},
   "outputs": [
    {
     "data": {
      "text/plain": [
       "City          202\n",
       "Country       202\n",
       "Max Temp      202\n",
       "Lat           202\n",
       "Lng           202\n",
       "Hotel Name    202\n",
       "dtype: int64"
      ]
     },
     "execution_count": 77,
     "metadata": {},
     "output_type": "execute_result"
    }
   ],
   "source": [
    "hotel_df.count()"
   ]
  },
  {
   "cell_type": "code",
   "execution_count": 79,
   "id": "7170a17b",
   "metadata": {},
   "outputs": [
    {
     "data": {
      "application/vnd.jupyter.widget-view+json": {
       "model_id": "ff9e6ed48e4b40209fd5a6e776ae0347",
       "version_major": 2,
       "version_minor": 0
      },
      "text/plain": [
       "Figure(layout=FigureLayout(height='420px'))"
      ]
     },
     "metadata": {},
     "output_type": "display_data"
    }
   ],
   "source": [
    "# Add a heatmap of temperature for the vacation spots and marker for each city.\n",
    "locations = hotel_df[[\"Lat\", \"Lng\"]]\n",
    "max_temp = hotel_df[\"Max Temp\"]\n",
    "fig = gmaps.figure(center=(30.0, 31.0), zoom_level=1.5)\n",
    "heat_layer = gmaps.heatmap_layer(locations, weights=max_temp,\n",
    "             dissipating=False, max_intensity=300, point_radius=4)\n",
    "marker_layer = gmaps.marker_layer(locations)\n",
    "fig.add_layer(heat_layer)\n",
    "fig.add_layer(marker_layer)\n",
    "# Call the figure to plot the data.\n",
    "fig"
   ]
  },
  {
   "cell_type": "code",
   "execution_count": 80,
   "id": "d5d9155f",
   "metadata": {},
   "outputs": [
    {
     "data": {
      "application/vnd.jupyter.widget-view+json": {
       "model_id": "a9700c51e66a4508b43dd00eda0ef6b3",
       "version_major": 2,
       "version_minor": 0
      },
      "text/plain": [
       "Figure(layout=FigureLayout(height='420px'))"
      ]
     },
     "metadata": {},
     "output_type": "display_data"
    }
   ],
   "source": [
    "info_box_template = \"\"\"\n",
    "<dl>\n",
    "<dt>Hotel Name</dt><dd>{Hotel Name}</dd>\n",
    "<dt>City</dt><dd>{City}</dd>\n",
    "<dt>Country</dt><dd>{Country}</dd>\n",
    "<dt>Max Temp</dt><dd>{Max Temp} °F</dd>\n",
    "</dl>\n",
    "\"\"\"\n",
    "# Store the DataFrame Row.\n",
    "hotel_info = [info_box_template.format(**row) for index, row in hotel_df.iterrows()]\n",
    "# Add a heatmap of temperature for the vacation spots and a pop-up marker for each city.\n",
    "locations = hotel_df[[\"Lat\", \"Lng\"]]\n",
    "max_temp = hotel_df[\"Max Temp\"]\n",
    "fig = gmaps.figure(center=(30.0, 31.0), zoom_level=1.5)\n",
    "heat_layer = gmaps.heatmap_layer(locations, weights=max_temp,dissipating=False,\n",
    "             max_intensity=300, point_radius=4)\n",
    "marker_layer = gmaps.marker_layer(locations, info_box_content=hotel_info)\n",
    "fig.add_layer(heat_layer)\n",
    "fig.add_layer(marker_layer)\n",
    "\n",
    "# Call the figure to plot the data.\n",
    "fig"
   ]
  }
 ],
 "metadata": {
  "kernelspec": {
   "display_name": "PythonData",
   "language": "python",
   "name": "pythondata"
  },
  "language_info": {
   "codemirror_mode": {
    "name": "ipython",
    "version": 3
   },
   "file_extension": ".py",
   "mimetype": "text/x-python",
   "name": "python",
   "nbconvert_exporter": "python",
   "pygments_lexer": "ipython3",
   "version": "3.7.13"
  }
 },
 "nbformat": 4,
 "nbformat_minor": 5
}
