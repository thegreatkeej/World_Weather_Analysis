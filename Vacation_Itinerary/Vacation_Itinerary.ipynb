{
 "cells": [
  {
   "cell_type": "markdown",
   "metadata": {},
   "source": [
    "## Deliverable 3. Create a Travel Itinerary Map."
   ]
  },
  {
   "cell_type": "code",
   "execution_count": 11,
   "metadata": {},
   "outputs": [],
   "source": [
    "# Dependencies and Setup\n",
    "import pandas as pd\n",
    "import requests\n",
    "import gmaps\n",
    "import numpy as np\n",
    "# Import API key\n",
    "from config import g_key\n",
    "\n",
    "# Configure gmaps\n",
    "gmaps.configure(api_key=g_key)"
   ]
  },
  {
   "cell_type": "code",
   "execution_count": 33,
   "metadata": {
    "scrolled": true
   },
   "outputs": [
    {
     "data": {
      "text/html": [
       "<div>\n",
       "<style scoped>\n",
       "    .dataframe tbody tr th:only-of-type {\n",
       "        vertical-align: middle;\n",
       "    }\n",
       "\n",
       "    .dataframe tbody tr th {\n",
       "        vertical-align: top;\n",
       "    }\n",
       "\n",
       "    .dataframe thead th {\n",
       "        text-align: right;\n",
       "    }\n",
       "</style>\n",
       "<table border=\"1\" class=\"dataframe\">\n",
       "  <thead>\n",
       "    <tr style=\"text-align: right;\">\n",
       "      <th></th>\n",
       "      <th>City_ID</th>\n",
       "      <th>City</th>\n",
       "      <th>Country</th>\n",
       "      <th>Max Temp</th>\n",
       "      <th>Current Description</th>\n",
       "      <th>Lat</th>\n",
       "      <th>Lng</th>\n",
       "      <th>Hotel Name</th>\n",
       "    </tr>\n",
       "  </thead>\n",
       "  <tbody>\n",
       "    <tr>\n",
       "      <th>0</th>\n",
       "      <td>5</td>\n",
       "      <td>Vaini</td>\n",
       "      <td>TO</td>\n",
       "      <td>78.96</td>\n",
       "      <td>few clouds</td>\n",
       "      <td>-21.2000</td>\n",
       "      <td>-175.2000</td>\n",
       "      <td>Keleti Beach Resort</td>\n",
       "    </tr>\n",
       "    <tr>\n",
       "      <th>1</th>\n",
       "      <td>10</td>\n",
       "      <td>Kapaa</td>\n",
       "      <td>US</td>\n",
       "      <td>80.19</td>\n",
       "      <td>clear sky</td>\n",
       "      <td>22.0752</td>\n",
       "      <td>-159.3190</td>\n",
       "      <td>Sheraton Kauai Coconut Beach Resort</td>\n",
       "    </tr>\n",
       "    <tr>\n",
       "      <th>2</th>\n",
       "      <td>11</td>\n",
       "      <td>Saint Anthony</td>\n",
       "      <td>US</td>\n",
       "      <td>80.53</td>\n",
       "      <td>scattered clouds</td>\n",
       "      <td>45.0205</td>\n",
       "      <td>-93.2180</td>\n",
       "      <td>Holiday Inn Express Roseville-St. Paul, an IHG...</td>\n",
       "    </tr>\n",
       "    <tr>\n",
       "      <th>3</th>\n",
       "      <td>15</td>\n",
       "      <td>Georgetown</td>\n",
       "      <td>MY</td>\n",
       "      <td>85.93</td>\n",
       "      <td>few clouds</td>\n",
       "      <td>5.4112</td>\n",
       "      <td>100.3354</td>\n",
       "      <td>Cititel Penang</td>\n",
       "    </tr>\n",
       "    <tr>\n",
       "      <th>4</th>\n",
       "      <td>24</td>\n",
       "      <td>Butaritari</td>\n",
       "      <td>KI</td>\n",
       "      <td>81.14</td>\n",
       "      <td>light rain</td>\n",
       "      <td>3.0707</td>\n",
       "      <td>172.7902</td>\n",
       "      <td>Isles Sunset Lodge</td>\n",
       "    </tr>\n",
       "  </tbody>\n",
       "</table>\n",
       "</div>"
      ],
      "text/plain": [
       "   City_ID           City Country  Max Temp Current Description      Lat  \\\n",
       "0        5          Vaini      TO     78.96          few clouds -21.2000   \n",
       "1       10          Kapaa      US     80.19           clear sky  22.0752   \n",
       "2       11  Saint Anthony      US     80.53    scattered clouds  45.0205   \n",
       "3       15     Georgetown      MY     85.93          few clouds   5.4112   \n",
       "4       24     Butaritari      KI     81.14          light rain   3.0707   \n",
       "\n",
       "        Lng                                         Hotel Name  \n",
       "0 -175.2000                                Keleti Beach Resort  \n",
       "1 -159.3190                Sheraton Kauai Coconut Beach Resort  \n",
       "2  -93.2180  Holiday Inn Express Roseville-St. Paul, an IHG...  \n",
       "3  100.3354                                     Cititel Penang  \n",
       "4  172.7902                                 Isles Sunset Lodge  "
      ]
     },
     "execution_count": 33,
     "metadata": {},
     "output_type": "execute_result"
    }
   ],
   "source": [
    "# 1. Read the WeatherPy_vacation.csv into a DataFrame.\n",
    "vacation_df = pd.read_csv(\"../Vacation_Search/WeatherPy_vacation.csv\")\n",
    "vacation_df.head()"
   ]
  },
  {
   "cell_type": "code",
   "execution_count": 58,
   "metadata": {},
   "outputs": [
    {
     "data": {
      "application/vnd.jupyter.widget-view+json": {
       "model_id": "a189703d9251499998770c9b6d7439b7",
       "version_major": 2,
       "version_minor": 0
      },
      "text/plain": [
       "Figure(layout=FigureLayout(height='420px'))"
      ]
     },
     "metadata": {},
     "output_type": "display_data"
    }
   ],
   "source": [
    "# 2. Using the template add the city name, the country code, the weather description and maximum temperature for the city.\n",
    "info_box_template = \"\"\"\n",
    "<dl>\n",
    "<dt>City</dt><dd>{City}</dd>\n",
    "<dt>Country</dt><dd>{Country}</dd>\n",
    "<dt>Max Temp</dt><dd>{Max Temp} °F</dd>\n",
    "</dl>\n",
    "\"\"\"\n",
    "# 3a. Get the data from each row and add it to the formatting template and store the data in a list.\n",
    "hotel_info = [info_box_template.format(**row) for index, row in vacation_df.iterrows()]\n",
    "\n",
    "# 3b. Get the latitude and longitude from each row and store in a new DataFrame.\n",
    "locations = vacation_df[[\"Lat\", \"Lng\"]]\n",
    "max_temp = vacation_df[\"Max Temp\"]\n",
    "fig = gmaps.figure(center=(30.0, 31.0), zoom_level=1.5)\n",
    "heat_layer = gmaps.heatmap_layer(locations, weights=max_temp,dissipating=False,\n",
    "             max_intensity=300, point_radius=4)\n",
    "# 4a. Add a marker layer for each city to the map.\n",
    "marker_layer = gmaps.marker_layer(locations, info_box_content=hotel_info)\n",
    "fig.add_layer(heat_layer)\n",
    "fig.add_layer(marker_layer)\n",
    "\n",
    "# 4b. Display the figure.\n",
    "fig"
   ]
  },
  {
   "cell_type": "code",
   "execution_count": 44,
   "metadata": {},
   "outputs": [
    {
     "data": {
      "text/plain": [
       "City_ID                7\n",
       "City                   7\n",
       "Country                7\n",
       "Max Temp               7\n",
       "Current Description    7\n",
       "Lat                    7\n",
       "Lng                    7\n",
       "Hotel Name             6\n",
       "dtype: int64"
      ]
     },
     "execution_count": 44,
     "metadata": {},
     "output_type": "execute_result"
    }
   ],
   "source": [
    "test_df = vacation_df.loc[(vacation_df[\"Country\"] == \"US\") & (vacation_df[\"Lat\"] >= 30) & (vacation_df[\"Lat\"] <= 35)]\n",
    "test_df.count()"
   ]
  },
  {
   "cell_type": "code",
   "execution_count": 59,
   "metadata": {},
   "outputs": [
    {
     "data": {
      "text/plain": [
       "(33.217400000000005, -91.12218333333334)"
      ]
     },
     "execution_count": 59,
     "metadata": {},
     "output_type": "execute_result"
    }
   ],
   "source": [
    "route_cities = test_df.dropna()\n",
    "center = (route_cities['Lat'].mean(), route_cities['Lng'].mean())\n",
    "center"
   ]
  },
  {
   "cell_type": "code",
   "execution_count": 76,
   "metadata": {},
   "outputs": [
    {
     "data": {
      "application/vnd.jupyter.widget-view+json": {
       "model_id": "5b760a84b4f9448cac041c7b111af0d7",
       "version_major": 2,
       "version_minor": 0
      },
      "text/plain": [
       "Figure(layout=FigureLayout(height='420px'))"
      ]
     },
     "metadata": {},
     "output_type": "display_data"
    }
   ],
   "source": [
    "info_box_template = \"\"\"\n",
    "<dl>\n",
    "<dt>City</dt><dd>{City}</dd>\n",
    "<dt>Country</dt><dd>{Country}</dd>\n",
    "<dt>Max Temp</dt><dd>{Max Temp} °F</dd>\n",
    "</dl>\n",
    "\n",
    "\"\"\"\n",
    "\n",
    "vacation_info = [info_box_template.format(**row) for index, row in route_cities.iterrows()]\n",
    "\n",
    "locations = route_cities[[\"Lat\", \"Lng\"]]\n",
    "max_temp = route_cities[\"Max Temp\"]\n",
    "fig = gmaps.figure(center=center, zoom_level=5)\n",
    "\n",
    "marker_layer = gmaps.marker_layer(locations, info_box_content=vacation_info)\n",
    "fig.add_layer(marker_layer)\n",
    "\n",
    "fig"
   ]
  },
  {
   "cell_type": "code",
   "execution_count": 60,
   "metadata": {},
   "outputs": [
    {
     "data": {
      "text/html": [
       "<div>\n",
       "<style scoped>\n",
       "    .dataframe tbody tr th:only-of-type {\n",
       "        vertical-align: middle;\n",
       "    }\n",
       "\n",
       "    .dataframe tbody tr th {\n",
       "        vertical-align: top;\n",
       "    }\n",
       "\n",
       "    .dataframe thead th {\n",
       "        text-align: right;\n",
       "    }\n",
       "</style>\n",
       "<table border=\"1\" class=\"dataframe\">\n",
       "  <thead>\n",
       "    <tr style=\"text-align: right;\">\n",
       "      <th></th>\n",
       "      <th>City_ID</th>\n",
       "      <th>City</th>\n",
       "      <th>Country</th>\n",
       "      <th>Max Temp</th>\n",
       "      <th>Current Description</th>\n",
       "      <th>Lat</th>\n",
       "      <th>Lng</th>\n",
       "      <th>Hotel Name</th>\n",
       "    </tr>\n",
       "  </thead>\n",
       "  <tbody>\n",
       "    <tr>\n",
       "      <th>46</th>\n",
       "      <td>202</td>\n",
       "      <td>Wichita Falls</td>\n",
       "      <td>US</td>\n",
       "      <td>86.25</td>\n",
       "      <td>clear sky</td>\n",
       "      <td>33.9137</td>\n",
       "      <td>-98.4934</td>\n",
       "      <td>Quality Inn &amp; Suites Wichita Falls I-44</td>\n",
       "    </tr>\n",
       "    <tr>\n",
       "      <th>61</th>\n",
       "      <td>285</td>\n",
       "      <td>Havelock</td>\n",
       "      <td>US</td>\n",
       "      <td>83.01</td>\n",
       "      <td>clear sky</td>\n",
       "      <td>34.8791</td>\n",
       "      <td>-76.9013</td>\n",
       "      <td>Sherwood Motel</td>\n",
       "    </tr>\n",
       "    <tr>\n",
       "      <th>73</th>\n",
       "      <td>320</td>\n",
       "      <td>Altus</td>\n",
       "      <td>US</td>\n",
       "      <td>90.91</td>\n",
       "      <td>clear sky</td>\n",
       "      <td>34.6381</td>\n",
       "      <td>-99.3340</td>\n",
       "      <td>Holiday Inn Express &amp; Suites Altus, an IHG Hotel</td>\n",
       "    </tr>\n",
       "    <tr>\n",
       "      <th>97</th>\n",
       "      <td>399</td>\n",
       "      <td>Big Spring</td>\n",
       "      <td>US</td>\n",
       "      <td>90.23</td>\n",
       "      <td>few clouds</td>\n",
       "      <td>32.2504</td>\n",
       "      <td>-101.4787</td>\n",
       "      <td>Hampton Inn &amp; Suites Big Spring</td>\n",
       "    </tr>\n",
       "    <tr>\n",
       "      <th>98</th>\n",
       "      <td>400</td>\n",
       "      <td>Rincon</td>\n",
       "      <td>US</td>\n",
       "      <td>82.83</td>\n",
       "      <td>few clouds</td>\n",
       "      <td>32.2960</td>\n",
       "      <td>-81.2354</td>\n",
       "      <td>Days Inn Rincon</td>\n",
       "    </tr>\n",
       "    <tr>\n",
       "      <th>113</th>\n",
       "      <td>439</td>\n",
       "      <td>Hattiesburg</td>\n",
       "      <td>US</td>\n",
       "      <td>85.44</td>\n",
       "      <td>clear sky</td>\n",
       "      <td>31.3271</td>\n",
       "      <td>-89.2903</td>\n",
       "      <td>Quality Inn &amp; Suites</td>\n",
       "    </tr>\n",
       "  </tbody>\n",
       "</table>\n",
       "</div>"
      ],
      "text/plain": [
       "     City_ID           City Country  Max Temp Current Description      Lat  \\\n",
       "46       202  Wichita Falls      US     86.25           clear sky  33.9137   \n",
       "61       285       Havelock      US     83.01           clear sky  34.8791   \n",
       "73       320          Altus      US     90.91           clear sky  34.6381   \n",
       "97       399     Big Spring      US     90.23          few clouds  32.2504   \n",
       "98       400         Rincon      US     82.83          few clouds  32.2960   \n",
       "113      439    Hattiesburg      US     85.44           clear sky  31.3271   \n",
       "\n",
       "          Lng                                        Hotel Name  \n",
       "46   -98.4934           Quality Inn & Suites Wichita Falls I-44  \n",
       "61   -76.9013                                    Sherwood Motel  \n",
       "73   -99.3340  Holiday Inn Express & Suites Altus, an IHG Hotel  \n",
       "97  -101.4787                   Hampton Inn & Suites Big Spring  \n",
       "98   -81.2354                                   Days Inn Rincon  \n",
       "113  -89.2903                              Quality Inn & Suites  "
      ]
     },
     "execution_count": 60,
     "metadata": {},
     "output_type": "execute_result"
    }
   ],
   "source": [
    "route_cities"
   ]
  },
  {
   "cell_type": "code",
   "execution_count": 64,
   "metadata": {},
   "outputs": [],
   "source": [
    "# From the map above pick 4 cities and create a vacation itinerary route to travel between the four cities. \n",
    "# 5. Create DataFrames for each city by filtering the 'vacation_df' using the loc method. \n",
    "# Hint: The starting and ending city should be the same city.\n",
    "\n",
    "vacation_start = route_cities.loc[97]\n",
    "vacation_end = route_cities.loc[97]\n",
    "vacation_stop1 = route_cities.loc[113]\n",
    "vacation_stop2 = route_cities.loc[98] \n",
    "vacation_stop3 = route_cities.loc[61] "
   ]
  },
  {
   "cell_type": "code",
   "execution_count": 62,
   "metadata": {},
   "outputs": [],
   "source": [
    "# 6. Get the latitude-longitude pairs as tuples from each city DataFrame using the to_numpy function and list indexing.\n",
    "start = vacation_start[[\"Lat\", \"Lng\"]]\n",
    "end = start\n",
    "stop1 = vacation_stop1[[\"Lat\", \"Lng\"]]\n",
    "stop2 = vacation_stop2[[\"Lat\", \"Lng\"]]\n",
    "stop3 = vacation_stop3[[\"Lat\", \"Lng\"]]\n"
   ]
  },
  {
   "cell_type": "code",
   "execution_count": 82,
   "metadata": {
    "scrolled": true
   },
   "outputs": [
    {
     "data": {
      "application/vnd.jupyter.widget-view+json": {
       "model_id": "8790f44078774764994d8d1c82cec1cf",
       "version_major": 2,
       "version_minor": 0
      },
      "text/plain": [
       "Figure(layout=FigureLayout(height='420px'))"
      ]
     },
     "metadata": {},
     "output_type": "display_data"
    }
   ],
   "source": [
    "# 7. Create a direction layer map using the start and end latitude-longitude pairs,\n",
    "# and stop1, stop2, and stop3 as the waypoints. The travel_mode should be \"DRIVING\", \"BICYCLING\", or \"WALKING\".\n",
    "\n",
    "info_box_template = \"\"\"\n",
    "<dl>\n",
    "<dt>City</dt><dd>{City}</dd>\n",
    "<dt>Country</dt><dd>{Country}</dd>\n",
    "<dt>Max Temp</dt><dd>{Max Temp} °F</dd>\n",
    "</dl>\n",
    "\n",
    "\"\"\"\n",
    "\n",
    "vacation_info = [info_box_template.format(**row) for index, row in route_cities.iterrows()]\n",
    "\n",
    "locations = route_cities[[\"Lat\", \"Lng\"]]\n",
    "max_temp = route_cities[\"Max Temp\"]\n",
    "fig = gmaps.figure(center=center, zoom_level=5)\n",
    "\n",
    "directions_layer = gmaps.directions_layer(start, end, show_markers=True, show_route=True, waypoints=[stop1, stop2, stop3], travel_mode='DRIVING')\n",
    "\n",
    "fig.add_layer(directions_layer)\n",
    "\n",
    "fig"
   ]
  },
  {
   "cell_type": "code",
   "execution_count": 89,
   "metadata": {
    "scrolled": true
   },
   "outputs": [
    {
     "data": {
      "text/html": [
       "<div>\n",
       "<style scoped>\n",
       "    .dataframe tbody tr th:only-of-type {\n",
       "        vertical-align: middle;\n",
       "    }\n",
       "\n",
       "    .dataframe tbody tr th {\n",
       "        vertical-align: top;\n",
       "    }\n",
       "\n",
       "    .dataframe thead th {\n",
       "        text-align: right;\n",
       "    }\n",
       "</style>\n",
       "<table border=\"1\" class=\"dataframe\">\n",
       "  <thead>\n",
       "    <tr style=\"text-align: right;\">\n",
       "      <th></th>\n",
       "      <th>City_ID</th>\n",
       "      <th>City</th>\n",
       "      <th>Country</th>\n",
       "      <th>Max Temp</th>\n",
       "      <th>Current Description</th>\n",
       "      <th>Lat</th>\n",
       "      <th>Lng</th>\n",
       "      <th>Hotel Name</th>\n",
       "    </tr>\n",
       "  </thead>\n",
       "  <tbody>\n",
       "    <tr>\n",
       "      <th>97</th>\n",
       "      <td>399</td>\n",
       "      <td>Big Spring</td>\n",
       "      <td>US</td>\n",
       "      <td>90.23</td>\n",
       "      <td>few clouds</td>\n",
       "      <td>32.2504</td>\n",
       "      <td>-101.4787</td>\n",
       "      <td>Hampton Inn &amp; Suites Big Spring</td>\n",
       "    </tr>\n",
       "    <tr>\n",
       "      <th>113</th>\n",
       "      <td>439</td>\n",
       "      <td>Hattiesburg</td>\n",
       "      <td>US</td>\n",
       "      <td>85.44</td>\n",
       "      <td>clear sky</td>\n",
       "      <td>31.3271</td>\n",
       "      <td>-89.2903</td>\n",
       "      <td>Quality Inn &amp; Suites</td>\n",
       "    </tr>\n",
       "    <tr>\n",
       "      <th>98</th>\n",
       "      <td>400</td>\n",
       "      <td>Rincon</td>\n",
       "      <td>US</td>\n",
       "      <td>82.83</td>\n",
       "      <td>few clouds</td>\n",
       "      <td>32.2960</td>\n",
       "      <td>-81.2354</td>\n",
       "      <td>Days Inn Rincon</td>\n",
       "    </tr>\n",
       "    <tr>\n",
       "      <th>61</th>\n",
       "      <td>285</td>\n",
       "      <td>Havelock</td>\n",
       "      <td>US</td>\n",
       "      <td>83.01</td>\n",
       "      <td>clear sky</td>\n",
       "      <td>34.8791</td>\n",
       "      <td>-76.9013</td>\n",
       "      <td>Sherwood Motel</td>\n",
       "    </tr>\n",
       "  </tbody>\n",
       "</table>\n",
       "</div>"
      ],
      "text/plain": [
       "     City_ID         City Country  Max Temp Current Description      Lat  \\\n",
       "97       399   Big Spring      US     90.23          few clouds  32.2504   \n",
       "113      439  Hattiesburg      US     85.44           clear sky  31.3271   \n",
       "98       400       Rincon      US     82.83          few clouds  32.2960   \n",
       "61       285     Havelock      US     83.01           clear sky  34.8791   \n",
       "\n",
       "          Lng                       Hotel Name  \n",
       "97  -101.4787  Hampton Inn & Suites Big Spring  \n",
       "113  -89.2903             Quality Inn & Suites  \n",
       "98   -81.2354                  Days Inn Rincon  \n",
       "61   -76.9013                   Sherwood Motel  "
      ]
     },
     "execution_count": 89,
     "metadata": {},
     "output_type": "execute_result"
    }
   ],
   "source": [
    "# 8. To create a marker layer map between the four cities.\n",
    "#  Combine the four city DataFrames into one DataFrame using the concat() function.\n",
    "itinerary_df = route_cities.loc[[97,113,98,61]]\n",
    "itinerary_df"
   ]
  },
  {
   "cell_type": "code",
   "execution_count": 94,
   "metadata": {},
   "outputs": [
    {
     "data": {
      "application/vnd.jupyter.widget-view+json": {
       "model_id": "674377e3dbbd406cafe5540db0b9a9c5",
       "version_major": 2,
       "version_minor": 0
      },
      "text/plain": [
       "Figure(layout=FigureLayout(height='420px'))"
      ]
     },
     "metadata": {},
     "output_type": "display_data"
    }
   ],
   "source": [
    "# 9 Using the template add city name, the country code, the weather description and maximum temperature for the city. \n",
    "info_box_template = \"\"\"\n",
    "<dl>\n",
    "<dt>Hotel Name</dt><dd>{Hotel Name}</dd>\n",
    "<dt>City</dt><dd>{City}</dd>\n",
    "<dt>Country</dt><dd>{Country}</dd>\n",
    "<dt>Max Temp</dt><dd>{Max Temp} °F</dd>\n",
    "</dl>\n",
    "\n",
    "\"\"\"\n",
    "# 10a Get the data from each row and add it to the formatting template and store the data in a list.\n",
    "vacation_info = [info_box_template.format(**row) for index, row in itinerary_df.iterrows()]\n",
    "\n",
    "# 10b. Get the latitude and longitude from each row and store in a new DataFrame.\n",
    "locations = itinerary_df[[\"Lat\", \"Lng\"]]\n",
    "max_temp = itinerary_df[\"Max Temp\"]\n",
    "fig = gmaps.figure(center=center, zoom_level=5)\n",
    "\n",
    "#10c. Add directions layer.\n",
    "directions_layer = gmaps.directions_layer(start, end, waypoints=[stop1, stop2, stop3], travel_mode='DRIVING')\n",
    "\n",
    "fig.add_layer(directions_layer)\n",
    "\n",
    "fig"
   ]
  },
  {
   "cell_type": "code",
   "execution_count": 97,
   "metadata": {},
   "outputs": [
    {
     "data": {
      "application/vnd.jupyter.widget-view+json": {
       "model_id": "7c8eab64b42f4ef589ca5f6c70e60adb",
       "version_major": 2,
       "version_minor": 0
      },
      "text/plain": [
       "Figure(layout=FigureLayout(height='420px'))"
      ]
     },
     "metadata": {},
     "output_type": "display_data"
    }
   ],
   "source": [
    "# 11a. Add a marker layer for each city to the map.\n",
    "info_box_template = \"\"\"\n",
    "<dl>\n",
    "<dt>Hotel Name</dt><dd>{Hotel Name}</dd>\n",
    "<dt>City</dt><dd>{City}</dd>\n",
    "<dt>Country</dt><dd>{Country}</dd>\n",
    "<dt>Max Temp</dt><dd>{Max Temp} °F</dd>\n",
    "</dl>\n",
    "\"\"\"\n",
    "\n",
    "vacation_info = [info_box_template.format(**row) for index, row in itinerary_df.iterrows()]\n",
    "\n",
    "locations = itinerary_df[[\"Lat\", \"Lng\"]]\n",
    "max_temp = itinerary_df[\"Max Temp\"]\n",
    "\n",
    "fig = gmaps.figure(center=center, zoom_level=5)\n",
    "\n",
    "marker_layer = gmaps.marker_layer(locations, info_box_content=vacation_info)\n",
    "\n",
    "\n",
    "fig.add_layer(marker_layer)\n",
    "\n",
    "# 11b. Display the figure\n",
    "fig"
   ]
  },
  {
   "cell_type": "code",
   "execution_count": null,
   "metadata": {},
   "outputs": [],
   "source": []
  }
 ],
 "metadata": {
  "kernelspec": {
   "display_name": "PythonData",
   "language": "python",
   "name": "pythondata"
  },
  "language_info": {
   "codemirror_mode": {
    "name": "ipython",
    "version": 3
   },
   "file_extension": ".py",
   "mimetype": "text/x-python",
   "name": "python",
   "nbconvert_exporter": "python",
   "pygments_lexer": "ipython3",
   "version": "3.7.13"
  },
  "latex_envs": {
   "LaTeX_envs_menu_present": true,
   "autoclose": false,
   "autocomplete": true,
   "bibliofile": "biblio.bib",
   "cite_by": "apalike",
   "current_citInitial": 1,
   "eqLabelWithNumbers": true,
   "eqNumInitial": 1,
   "hotkeys": {
    "equation": "Ctrl-E",
    "itemize": "Ctrl-I"
   },
   "labels_anchors": false,
   "latex_user_defs": false,
   "report_style_numbering": false,
   "user_envs_cfg": false
  }
 },
 "nbformat": 4,
 "nbformat_minor": 2
}
